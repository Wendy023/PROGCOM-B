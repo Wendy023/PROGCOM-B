{
  "nbformat": 4,
  "nbformat_minor": 0,
  "metadata": {
    "colab": {
      "provenance": []
    },
    "kernelspec": {
      "name": "python3",
      "display_name": "Python 3"
    },
    "language_info": {
      "name": "python"
    }
  },
  "cells": [
    {
      "cell_type": "markdown",
      "source": [
        "#Estrucutura de repetición\n",
        "Se emplea cuando se desea repetir una parte del codigo, dada una condición"
      ],
      "metadata": {
        "id": "cTe48Wlbtc4z"
      }
    },
    {
      "cell_type": "markdown",
      "source": [
        "##Listas\n",
        "* Son un conjunto de tipo de datos, **indexado**, separado por comas, y encerrado entre [].\n",
        "* Todos los elementos de dentro de una lista, se empiezan a contar desde 0.\n",
        "###Creación de listas\n",
        "* Forma general: Lista=[]\n",
        "* Forma manual: animales=[\"gato\",\"perro\",zorro,\"oso\"]\n",
        "* Por conversión: número=list(range(10))"
      ],
      "metadata": {
        "id": "yibmJkSNwCkB"
      }
    },
    {
      "cell_type": "code",
      "source": [
        "lista=[]"
      ],
      "metadata": {
        "id": "zttTlEb1xFr5"
      },
      "execution_count": 6,
      "outputs": []
    },
    {
      "cell_type": "code",
      "source": [
        "type(lista)"
      ],
      "metadata": {
        "colab": {
          "base_uri": "https://localhost:8080/"
        },
        "id": "MzDlXiMmxI64",
        "outputId": "f4ee502d-7129-4193-fdac-2c690090fd58"
      },
      "execution_count": 7,
      "outputs": [
        {
          "output_type": "execute_result",
          "data": {
            "text/plain": [
              "list"
            ]
          },
          "metadata": {},
          "execution_count": 7
        }
      ]
    },
    {
      "cell_type": "code",
      "source": [
        "zorro=(1,2,3,4)\n",
        "animales=[\"gato\",\"perro\",zorro,\"oso\"]\n",
        "animales"
      ],
      "metadata": {
        "colab": {
          "base_uri": "https://localhost:8080/"
        },
        "id": "rFemMvLqxtRn",
        "outputId": "9fddccc9-e1f8-4a94-9949-8468ece8c527"
      },
      "execution_count": 3,
      "outputs": [
        {
          "output_type": "execute_result",
          "data": {
            "text/plain": [
              "['gato', 'perro', (1, 2, 3, 4), 'oso']"
            ]
          },
          "metadata": {},
          "execution_count": 3
        }
      ]
    },
    {
      "cell_type": "code",
      "source": [
        "type(zorro)"
      ],
      "metadata": {
        "colab": {
          "base_uri": "https://localhost:8080/"
        },
        "id": "kfnMbTpFx_gH",
        "outputId": "77dac249-0197-475a-d6fe-4516c2d82588"
      },
      "execution_count": 4,
      "outputs": [
        {
          "output_type": "execute_result",
          "data": {
            "text/plain": [
              "tuple"
            ]
          },
          "metadata": {},
          "execution_count": 4
        }
      ]
    },
    {
      "cell_type": "code",
      "source": [
        "número=list(range(10))\n",
        "número"
      ],
      "metadata": {
        "colab": {
          "base_uri": "https://localhost:8080/"
        },
        "id": "OwP8cS5py-1f",
        "outputId": "4544357d-a21d-4443-b85d-ef8c11ce0b63"
      },
      "execution_count": 11,
      "outputs": [
        {
          "output_type": "execute_result",
          "data": {
            "text/plain": [
              "[0, 1, 2, 3, 4, 5, 6, 7, 8, 9]"
            ]
          },
          "metadata": {},
          "execution_count": 11
        }
      ]
    },
    {
      "cell_type": "code",
      "source": [
        "range(10)"
      ],
      "metadata": {
        "colab": {
          "base_uri": "https://localhost:8080/"
        },
        "id": "x3ATK190zRD2",
        "outputId": "e2c38f4b-c2e8-4697-bf77-c811ba984930"
      },
      "execution_count": 10,
      "outputs": [
        {
          "output_type": "execute_result",
          "data": {
            "text/plain": [
              "range(0, 10)"
            ]
          },
          "metadata": {},
          "execution_count": 10
        }
      ]
    },
    {
      "cell_type": "markdown",
      "source": [
        "##Estrutura Para For\n",
        "\n",
        "se usa cuando\n",
        "* se sabe cauantas veces se repite una accion\n",
        "* esta compuesta por un cotador y una codicion\n",
        "* Cotador : identifica cunata veces se va repetir el blucle y con que frecuencia\n",
        "*  condicion : evalua cuando se detiene\n",
        "\n",
        "\n",
        "\n",
        "Python\n",
        "\n",
        "for variable in range ( vi, vf+1, paso ):\n",
        "  aqui se repite parte del codigo.\n",
        "Donde\n",
        "1. vi: condicion inicial. donde arranco a contar\n",
        "2. vf+1: condicion final. donde dejo de contar + 1\n",
        "3. Paso: Frecuencia de cobteo\n",
        "\n",
        "for para recorrido de lista\n",
        "flor=[\"amapola\",\"rosa\",\"tulipán\",\"orquídea\"]\n",
        "* El para va a iterar tantas veces como elementos tenga la lista\n",
        "* La variable dentro del para, toma como valor, cada elemento de la lista\n",
        "\n",
        "```\n",
        "for variable in lista:\n",
        " variable\n",
        "```\n",
        "\n"
      ],
      "metadata": {
        "id": "3c2d7U4ht3Vb"
      }
    },
    {
      "cell_type": "code",
      "source": [
        "#Creando una lista de nombre flor\n",
        "flor=[\"amapola\",\"rosa\",\"tulipán\",\"orquídea\"]\n",
        "flores=5\n",
        "for flores in flor:\n",
        "  print(flores)\n",
        "  if flores==\"tulipán\":\n",
        "    break"
      ],
      "metadata": {
        "colab": {
          "base_uri": "https://localhost:8080/"
        },
        "id": "PVCvB0gm0rX5",
        "outputId": "d8b3424a-4d36-470b-836b-721f6f94beb2"
      },
      "execution_count": 15,
      "outputs": [
        {
          "output_type": "stream",
          "name": "stdout",
          "text": [
            "amapola\n",
            "rosa\n",
            "tulipán\n"
          ]
        }
      ]
    },
    {
      "cell_type": "markdown",
      "source": [
        "##Estrucutra while\n",
        "* Se emplea cuando **NO SE SABE** cuántas veces se debe repetir una acción pero si se conoce su condición de parada (CP).\n",
        "* Condición inicial: Dónded arranca el ciclio.\n",
        "* Condición final (parada): Que indica dónde se detiene el ciclo.\n",
        "* Modificador de condición inicial.\n",
        "\n",
        "Estrucura general del mientras\n",
        "\n",
        "```\n",
        "Condición inicial\n",
        "While (condición==condición final):\n",
        " modificador de condición inicial\n",
        "```\n",
        "Modificador de condición inicial\n",
        "* Banderas: son booleanos\n",
        "* Son preguntas\n",
        "* Son contadores o acumuladores"
      ],
      "metadata": {
        "id": "h7jc8AbG2aqD"
      }
    }
  ]
}