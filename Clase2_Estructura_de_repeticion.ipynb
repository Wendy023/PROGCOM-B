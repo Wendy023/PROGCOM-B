{
  "nbformat": 4,
  "nbformat_minor": 0,
  "metadata": {
    "colab": {
      "provenance": [],
      "authorship_tag": "ABX9TyOYWmn1Fv1/3sEN8fEs1IIw",
      "include_colab_link": true
    },
    "kernelspec": {
      "name": "python3",
      "display_name": "Python 3"
    },
    "language_info": {
      "name": "python"
    }
  },
  "cells": [
    {
      "cell_type": "markdown",
      "metadata": {
        "id": "view-in-github",
        "colab_type": "text"
      },
      "source": [
        "<a href=\"https://colab.research.google.com/github/Wendy023/PROGCOM-B/blob/main/Clase2_Estructura_de_repeticion.ipynb\" target=\"_parent\"><img src=\"https://colab.research.google.com/assets/colab-badge.svg\" alt=\"Open In Colab\"/></a>"
      ]
    },
    {
      "cell_type": "markdown",
      "source": [
        "#Estrucutura de repetición\n",
        "Se emplea cuando se desea repetir una parte del codigo, dada una condición"
      ],
      "metadata": {
        "id": "cTe48Wlbtc4z"
      }
    },
    {
      "cell_type": "markdown",
      "source": [
        "##Listas\n",
        "* Son un conjunto de tipo de datos, **indexado**, separado por comas, y encerrado entre [].\n",
        "* Todos los elementos de dentro de una lista, se empiezan a contar desde 0.\n",
        "###Creación de listas\n",
        "* Forma general: Lista=[]\n",
        "* Forma manual: animales=[\"gato\",\"perro\",zorro,\"oso\"]\n",
        "* Por conversión: número=list(range(10))\n",
        "* Son objetos"
      ],
      "metadata": {
        "id": "yibmJkSNwCkB"
      }
    },
    {
      "cell_type": "code",
      "source": [
        "lista=[]"
      ],
      "metadata": {
        "id": "zttTlEb1xFr5"
      },
      "execution_count": null,
      "outputs": []
    },
    {
      "cell_type": "code",
      "source": [
        "lista=list(range(1,8))"
      ],
      "metadata": {
        "id": "36Ur-awPPQ_M"
      },
      "execution_count": null,
      "outputs": []
    },
    {
      "cell_type": "code",
      "source": [
        "lista.count()"
      ],
      "metadata": {
        "colab": {
          "base_uri": "https://localhost:8080/",
          "height": 141
        },
        "id": "zeOOFLhhO4sU",
        "outputId": "3bd667ed-7e02-42cc-dc20-bf337f5189c4"
      },
      "execution_count": null,
      "outputs": [
        {
          "output_type": "error",
          "ename": "TypeError",
          "evalue": "list.count() takes exactly one argument (0 given)",
          "traceback": [
            "\u001b[0;31m---------------------------------------------------------------------------\u001b[0m",
            "\u001b[0;31mTypeError\u001b[0m                                 Traceback (most recent call last)",
            "\u001b[0;32m/tmp/ipython-input-453950251.py\u001b[0m in \u001b[0;36m<cell line: 0>\u001b[0;34m()\u001b[0m\n\u001b[0;32m----> 1\u001b[0;31m \u001b[0mlista\u001b[0m\u001b[0;34m.\u001b[0m\u001b[0mcount\u001b[0m\u001b[0;34m(\u001b[0m\u001b[0;34m)\u001b[0m\u001b[0;34m\u001b[0m\u001b[0;34m\u001b[0m\u001b[0m\n\u001b[0m",
            "\u001b[0;31mTypeError\u001b[0m: list.count() takes exactly one argument (0 given)"
          ]
        }
      ]
    },
    {
      "cell_type": "code",
      "source": [
        "type(lista)"
      ],
      "metadata": {
        "id": "MzDlXiMmxI64"
      },
      "execution_count": null,
      "outputs": []
    },
    {
      "cell_type": "code",
      "source": [
        "zorro=(1,2,3,4)\n",
        "animales=[\"gato\",\"perro\",zorro,\"oso\"]\n",
        "animales"
      ],
      "metadata": {
        "id": "rFemMvLqxtRn"
      },
      "execution_count": null,
      "outputs": []
    },
    {
      "cell_type": "code",
      "source": [
        "type(zorro)"
      ],
      "metadata": {
        "id": "kfnMbTpFx_gH"
      },
      "execution_count": null,
      "outputs": []
    },
    {
      "cell_type": "code",
      "source": [
        "número=list(range(10))\n",
        "número"
      ],
      "metadata": {
        "id": "OwP8cS5py-1f"
      },
      "execution_count": null,
      "outputs": []
    },
    {
      "cell_type": "code",
      "source": [
        "range(10)"
      ],
      "metadata": {
        "id": "x3ATK190zRD2"
      },
      "execution_count": null,
      "outputs": []
    },
    {
      "cell_type": "markdown",
      "source": [
        "##Estrutura Para For\n",
        "\n",
        "se usa cuando\n",
        "* se sabe cauantas veces se repite una accion\n",
        "* esta compuesta por un cotador y una codicion\n",
        "* Cotador : identifica cunata veces se va repetir el blucle y con que frecuencia\n",
        "*  condicion : evalua cuando se detiene\n",
        "\n",
        "\n",
        "\n",
        "Python\n",
        "\n",
        "for variable in range ( vi, vf+1, paso ):\n",
        "  aqui se repite parte del codigo.\n",
        "Donde\n",
        "1. vi: condicion inicial. donde arranco a contar\n",
        "2. vf+1: condicion final. donde dejo de contar + 1\n",
        "3. Paso: Frecuencia de cobteo\n",
        "\n",
        "for para recorrido de lista\n",
        "flor=[\"amapola\",\"rosa\",\"tulipán\",\"orquídea\"]\n",
        "* El para va a iterar tantas veces como elementos tenga la lista\n",
        "* La variable dentro del para, toma como valor, cada elemento de la lista\n",
        "\n",
        "```\n",
        "for variable in lista:\n",
        " variable\n",
        "```\n",
        "\n"
      ],
      "metadata": {
        "id": "3c2d7U4ht3Vb"
      }
    },
    {
      "cell_type": "code",
      "source": [
        "#Creando una lista de nombre flor\n",
        "flor=[\"amapola\",\"rosa\",\"tulipán\",\"orquídea\"]\n",
        "flores=5\n",
        "for flores in flor:\n",
        "  print(flores)\n",
        "  if flores==\"tulipán\":\n",
        "    break#Rompe la iteración"
      ],
      "metadata": {
        "id": "PVCvB0gm0rX5"
      },
      "execution_count": null,
      "outputs": []
    },
    {
      "cell_type": "code",
      "source": [
        "name=[]\n",
        "for nombres in range(5):\n",
        "  name.append(input(\"Ingrese su nombre: \"))"
      ],
      "metadata": {
        "id": "f6jIyPklQaSk"
      },
      "execution_count": null,
      "outputs": []
    },
    {
      "cell_type": "code",
      "source": [
        "name"
      ],
      "metadata": {
        "id": "_eUoc6fIRAh8"
      },
      "execution_count": null,
      "outputs": []
    },
    {
      "cell_type": "markdown",
      "source": [
        "#Parte 2: Estructuras de Repetición (10 ejercicios)"
      ],
      "metadata": {
        "id": "MBhGjIK6ctUn"
      }
    },
    {
      "cell_type": "markdown",
      "source": [
        "1. Escribe un programa que imprima los números del 1 al 10."
      ],
      "metadata": {
        "id": "SX4_HpmfczQf"
      }
    },
    {
      "cell_type": "code",
      "source": [
        "for numeros in range(1,11):\n",
        " print(numeros)"
      ],
      "metadata": {
        "colab": {
          "base_uri": "https://localhost:8080/"
        },
        "id": "RP0nfeqsTan2",
        "outputId": "95979d5f-8926-43ca-8b11-243609a8d3b1"
      },
      "execution_count": null,
      "outputs": [
        {
          "output_type": "stream",
          "name": "stdout",
          "text": [
            "1\n",
            "2\n",
            "3\n",
            "4\n",
            "5\n",
            "6\n",
            "7\n",
            "8\n",
            "9\n",
            "10\n"
          ]
        }
      ]
    },
    {
      "cell_type": "code",
      "source": [
        "numeros=[1,2,3,4,5,6,7,8,9,10]\n",
        "for numero in numeros:\n",
        "  print(numero)"
      ],
      "metadata": {
        "colab": {
          "base_uri": "https://localhost:8080/"
        },
        "id": "kw-atATsUIFF",
        "outputId": "37ee3e01-485a-4ab3-ddb9-e374426fa72a"
      },
      "execution_count": null,
      "outputs": [
        {
          "output_type": "stream",
          "name": "stdout",
          "text": [
            "1\n",
            "2\n",
            "3\n",
            "4\n",
            "5\n",
            "6\n",
            "7\n",
            "8\n",
            "9\n",
            "10\n"
          ]
        }
      ]
    },
    {
      "cell_type": "markdown",
      "source": [
        "2. Escribe un programa que sume los números del 1 al 100."
      ],
      "metadata": {
        "id": "s0a7Tpxrc2gH"
      }
    },
    {
      "cell_type": "code",
      "source": [
        "numeros=range(1,101)\n",
        "suma=0\n",
        "for numero in numeros:\n",
        "  suma +=numero\n",
        "print(\"La suma es:\", suma)"
      ],
      "metadata": {
        "colab": {
          "base_uri": "https://localhost:8080/"
        },
        "id": "HCFYHHwCV2hY",
        "outputId": "8df211b5-57b3-47c4-afd7-9d643073204f"
      },
      "execution_count": null,
      "outputs": [
        {
          "output_type": "stream",
          "name": "stdout",
          "text": [
            "La suma es: 5050\n"
          ]
        }
      ]
    },
    {
      "cell_type": "code",
      "source": [
        "numero=(1, 2, 3, 4, 5, 6, 7, 8, 9, 10, 11, 12, 13, 14, 15, 16, 17, 18, 19, 20, 21, 22, 23, 24, 25, 26, 27, 28, 29, 30, 31, 32, 33, 34, 35, 36, 37, 38, 39, 40, 41, 42, 43, 44, 45, 46, 47, 48, 49, 50, 51, 52, 53, 54, 55, 56, 57, 58, 59, 60, 61, 62, 63, 64, 65, 66, 67, 68, 69, 70, 71, 72, 73, 74, 75, 76, 77, 78, 79, 80, 81, 82, 83, 84, 85, 86, 87, 88, 89, 90, 91, 92, 93, 94, 95, 96, 97, 98, 99, 100)\n",
        "suma=0\n",
        "for numero in numero:\n",
        "  suma+=numero\n",
        "print(\"La suma es:\",suma)"
      ],
      "metadata": {
        "colab": {
          "base_uri": "https://localhost:8080/"
        },
        "id": "xhQvSduAXG8v",
        "outputId": "41f38785-a6de-4d94-d267-81e3da8439e8"
      },
      "execution_count": null,
      "outputs": [
        {
          "output_type": "stream",
          "name": "stdout",
          "text": [
            "La suma es: 5050\n"
          ]
        }
      ]
    },
    {
      "cell_type": "markdown",
      "source": [
        "3. Escribe un programa que imprima los múltiplos de 3 entre 1 y 30."
      ],
      "metadata": {
        "id": "u2XeK3vAdAkf"
      }
    },
    {
      "cell_type": "code",
      "source": [
        "for numeros in range(1,31):\n",
        "  if numeros % 3 == 0:\n",
        "   print(numeros)"
      ],
      "metadata": {
        "colab": {
          "base_uri": "https://localhost:8080/"
        },
        "id": "V-rPWGrIa_t-",
        "outputId": "074b381b-b75e-49c4-936a-779d6ab4a270"
      },
      "execution_count": null,
      "outputs": [
        {
          "output_type": "stream",
          "name": "stdout",
          "text": [
            "3\n",
            "6\n",
            "9\n",
            "12\n",
            "15\n",
            "18\n",
            "21\n",
            "24\n",
            "27\n",
            "30\n"
          ]
        }
      ]
    },
    {
      "cell_type": "code",
      "source": [
        "numeros = [1, 2, 3, 4, 5, 6, 7, 8, 9, 10, 11, 12, 13, 14, 15, 16, 17, 18, 19, 20, 21, 22, 23, 24, 25, 26, 27, 28, 29, 30]\n",
        "for numero in numeros:\n",
        "    if numero % 3 == 0:\n",
        "        print(numero)"
      ],
      "metadata": {
        "colab": {
          "base_uri": "https://localhost:8080/"
        },
        "id": "9MKoJj0rcXCv",
        "outputId": "88aef318-cfb0-45ce-89fc-54a5f0807931"
      },
      "execution_count": null,
      "outputs": [
        {
          "output_type": "stream",
          "name": "stdout",
          "text": [
            "3\n",
            "6\n",
            "9\n",
            "12\n",
            "15\n",
            "18\n",
            "21\n",
            "24\n",
            "27\n",
            "30\n"
          ]
        }
      ]
    },
    {
      "cell_type": "markdown",
      "source": [
        "4. Escribe un programa que lea un número e imprima su tabla de multiplicar del 1 al 10."
      ],
      "metadata": {
        "id": "1a8vbUKqdPYI"
      }
    },
    {
      "cell_type": "code",
      "source": [
        "numero=int(input(\"Ingresa un numero: \"))\n",
        "for x in range(1,11):\n",
        " print(numero, \"x\", x, \"=\", numero*x)"
      ],
      "metadata": {
        "colab": {
          "base_uri": "https://localhost:8080/"
        },
        "id": "Jp1Um6KNcrLn",
        "outputId": "9494495f-5fac-428c-9a6e-7686cec37cd2"
      },
      "execution_count": null,
      "outputs": [
        {
          "output_type": "stream",
          "name": "stdout",
          "text": [
            "Ingresa un numero: 5\n",
            "5 x 1 = 5\n",
            "5 x 2 = 10\n",
            "5 x 3 = 15\n",
            "5 x 4 = 20\n",
            "5 x 5 = 25\n",
            "5 x 6 = 30\n",
            "5 x 7 = 35\n",
            "5 x 8 = 40\n",
            "5 x 9 = 45\n",
            "5 x 10 = 50\n"
          ]
        }
      ]
    },
    {
      "cell_type": "code",
      "source": [
        "numero = int(input(\"Ingresa un número: \"))\n",
        "for i in [1,2,3,4,5,6,7,8,9,10]:\n",
        "    resultado = numero * i\n",
        "    print(numero, \"x\", i, \"=\", resultado)"
      ],
      "metadata": {
        "colab": {
          "base_uri": "https://localhost:8080/"
        },
        "id": "5qghI89egWgk",
        "outputId": "b5a691f8-fce3-4dcf-fe0a-871cfb23b85b"
      },
      "execution_count": null,
      "outputs": [
        {
          "output_type": "stream",
          "name": "stdout",
          "text": [
            "Ingresa un número: 7\n",
            "7 x 1 = 7\n",
            "7 x 2 = 14\n",
            "7 x 3 = 21\n",
            "7 x 4 = 28\n",
            "7 x 5 = 35\n",
            "7 x 6 = 42\n",
            "7 x 7 = 49\n",
            "7 x 8 = 56\n",
            "7 x 9 = 63\n",
            "7 x 10 = 70\n"
          ]
        }
      ]
    },
    {
      "cell_type": "markdown",
      "source": [
        "5. Escribe un programa que pida 5 números al usuario y calcule el promedio."
      ],
      "metadata": {
        "id": "UOdBdd601DWW"
      }
    },
    {
      "cell_type": "code",
      "source": [
        "a = 0\n",
        "\n",
        "for x in range(5):\n",
        "  numero = int(input(\"Escribe un numero \"))\n",
        "  a += numero\n",
        "\n",
        "promedio = a/5\n",
        "print(\"El promedio es:\", promedio)"
      ],
      "metadata": {
        "colab": {
          "base_uri": "https://localhost:8080/"
        },
        "id": "lEAACB561HDa",
        "outputId": "2dc7ef34-5e3b-4f31-d8cb-9304e001bdd8"
      },
      "execution_count": 13,
      "outputs": [
        {
          "output_type": "stream",
          "name": "stdout",
          "text": [
            "Escribe un numero 1\n",
            "Escribe un numero 1\n",
            "Escribe un numero 1\n",
            "Escribe un numero 1\n",
            "Escribe un numero 1\n",
            "El promedio es: 1.0\n"
          ]
        }
      ]
    },
    {
      "cell_type": "code",
      "source": [
        "b = [0,0,0,0,0]\n",
        "a = 0\n",
        "\n",
        "for y in b:\n",
        "  numero = int(input(\"Escribe un numero \"))\n",
        "  a += numero\n",
        "\n",
        "promedio = a/5\n",
        "print(\"El promedio es:\", promedio)"
      ],
      "metadata": {
        "colab": {
          "base_uri": "https://localhost:8080/"
        },
        "id": "qwWIugq14ixn",
        "outputId": "5bf62dd7-6a58-47b5-e6a5-7881a9667a1b"
      },
      "execution_count": 21,
      "outputs": [
        {
          "output_type": "stream",
          "name": "stdout",
          "text": [
            "Escribe un numero 4\n",
            "Escribe un numero 4\n",
            "Escribe un numero 4\n",
            "Escribe un numero 4\n",
            "Escribe un numero 4\n",
            "El promedio es: 4.0\n"
          ]
        }
      ]
    },
    {
      "cell_type": "markdown",
      "source": [
        "6. Escribe un programa que cuente cuántos números pares hay entre 1 y un número ingresado."
      ],
      "metadata": {
        "id": "mIF_Adle4RV3"
      }
    },
    {
      "cell_type": "code",
      "source": [
        "numero = int(input(\"Escribe un numero \"))\n",
        "a = 0\n",
        "\n",
        "for x in range(1,numero+1):\n",
        "  if x % 2 == 0:\n",
        "    a += 1\n",
        "print(a, \"numeros pares\")"
      ],
      "metadata": {
        "colab": {
          "base_uri": "https://localhost:8080/"
        },
        "id": "UlU9-nyY4QWm",
        "outputId": "46a80ea7-32be-4e28-a3e8-84ead130a677"
      },
      "execution_count": 29,
      "outputs": [
        {
          "output_type": "stream",
          "name": "stdout",
          "text": [
            "Escribe un numero 6\n",
            "3 numeros pares\n"
          ]
        }
      ]
    },
    {
      "cell_type": "code",
      "source": [
        "n = int(input(\"Ingrese un número: \"))\n",
        "\n",
        "numeros = []\n",
        "for y in [1]*n:\n",
        "    numeros.append(len(numeros)+1)\n",
        "\n",
        "contador = 0\n",
        "for x in numeros:\n",
        "    if x % 2 == 0:\n",
        "        contador += 1\n",
        "\n",
        "print(\"Cantidad de números pares:\", contador)"
      ],
      "metadata": {
        "colab": {
          "base_uri": "https://localhost:8080/"
        },
        "id": "YMZOFcIF7gNl",
        "outputId": "90e22599-b5c0-4b38-81f5-5d5ec2a060d5"
      },
      "execution_count": 33,
      "outputs": [
        {
          "output_type": "stream",
          "name": "stdout",
          "text": [
            "Ingrese un número: 6\n",
            "Cantidad de números pares: 3\n"
          ]
        }
      ]
    },
    {
      "cell_type": "markdown",
      "source": [
        "7. Escribe un programa que solicite contraseñas hasta que el usuario ingrese una\n",
        "válida, formada por su apellido y la longitud de su apellido (“Espinosa8”, por ejemplo)."
      ],
      "metadata": {
        "id": "bvb7WxlR8uan"
      }
    },
    {
      "cell_type": "code",
      "source": [
        "apellido = input(\"Escribe tu apellido: \")\n",
        "clave_valida = apellido + str(len(apellido))\n",
        "\n",
        "for intento in range(5):\n",
        "    contrasena = input(\"Escribe tu contraseña: \")\n",
        "    if contrasena == clave_valida:\n",
        "        print(\"Contraseña válida\")\n",
        "        break\n",
        "    else:\n",
        "        print(\"Contraseña incorrecta, intenta de nuevo.\")\n",
        "else:\n",
        "    print(\"Se acabaron los intentos.\")\n"
      ],
      "metadata": {
        "colab": {
          "base_uri": "https://localhost:8080/"
        },
        "id": "EiKqiB9Z8tu1",
        "outputId": "17575e47-929e-4711-ba30-ad0c0139f540"
      },
      "execution_count": 36,
      "outputs": [
        {
          "output_type": "stream",
          "name": "stdout",
          "text": [
            "Escribe tu apellido: gomez\n",
            "Escribe tu contraseña: gomez5\n",
            "Contraseña válida\n"
          ]
        }
      ]
    },
    {
      "cell_type": "code",
      "source": [
        "apellido = input(\"Escribe tu apellido: \")\n",
        "clave_valida = apellido + str(len(apellido))\n",
        "\n",
        "intentos = []\n",
        "\n",
        "while True:\n",
        "    contrasena = input(\"Escribe tu contraseña: \")\n",
        "    intentos.append(contrasena)\n",
        "    if contrasena == clave_valida:\n",
        "        print(\"Contraseña válida\")\n",
        "        break\n",
        "    else:\n",
        "        print(\"Contraseña incorrecta, intenta de nuevo\")\n",
        "\n",
        "print(\"Intentos realizados:\", intentos)\n"
      ],
      "metadata": {
        "colab": {
          "base_uri": "https://localhost:8080/"
        },
        "id": "qvDV-PJV9EjQ",
        "outputId": "286505b8-514e-43fa-b0de-ddbca3caf98f"
      },
      "execution_count": 35,
      "outputs": [
        {
          "output_type": "stream",
          "name": "stdout",
          "text": [
            "Escribe tu apellido: Gomez\n",
            "Escribe tu contraseña: Gomez5\n",
            "¡Contraseña válida!\n",
            "Intentos realizados: ['Gomez5']\n"
          ]
        }
      ]
    },
    {
      "cell_type": "markdown",
      "source": [
        "##Estrucutra while\n",
        "* Se emplea cuando **NO SE SABE** cuántas veces se debe repetir una acción pero si se conoce su condición de parada (CP).\n",
        "* Condición inicial: Dónded arranca el ciclio.\n",
        "* Condición final (parada): Que indica dónde se detiene el ciclo.\n",
        "* Modificador de condición inicial.\n",
        "\n",
        "Estrucura general del mientras\n",
        "\n",
        "```\n",
        "Condición inicial\n",
        "While (condición==condición final):\n",
        " modificador de condición inicial\n",
        "```\n",
        "Modificador de condición inicial\n",
        "* Banderas: son booleanos\n",
        "* Son preguntas\n",
        "* Son contadores o acumuladores"
      ],
      "metadata": {
        "id": "h7jc8AbG2aqD"
      }
    }
  ]
}