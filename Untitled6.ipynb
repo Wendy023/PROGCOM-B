{
  "nbformat": 4,
  "nbformat_minor": 0,
  "metadata": {
    "colab": {
      "provenance": [],
      "authorship_tag": "ABX9TyP4NOUvFjcGcGyMC5vpQ4D0",
      "include_colab_link": true
    },
    "kernelspec": {
      "name": "python3",
      "display_name": "Python 3"
    },
    "language_info": {
      "name": "python"
    }
  },
  "cells": [
    {
      "cell_type": "markdown",
      "metadata": {
        "id": "view-in-github",
        "colab_type": "text"
      },
      "source": [
        "<a href=\"https://colab.research.google.com/github/Wendy023/PROGCOM-B/blob/main/Untitled6.ipynb\" target=\"_parent\"><img src=\"https://colab.research.google.com/assets/colab-badge.svg\" alt=\"Open In Colab\"/></a>"
      ]
    },
    {
      "cell_type": "markdown",
      "source": [
        "##Diccionarios\n",
        "Estructura de datos que almacenan valores\n",
        "\n",
        "sintaxis\n",
        "\n",
        "\n",
        "```\n",
        "nombre_diccionario={\"llave\":valor}\n",
        "```\n",
        "* Llave: **Siempre** tiene que ser alfanumerico.\n",
        "* Valor: Cualquier tipo de dato\n",
        "\n"
      ],
      "metadata": {
        "id": "dL51Ux4DajXn"
      }
    },
    {
      "cell_type": "code",
      "execution_count": 54,
      "metadata": {
        "id": "p4aWuicLaikA"
      },
      "outputs": [],
      "source": [
        "liga_justicia={\"superhéroes\": [\"Batman\",\"Superman\",\"WonderWoman\"],\"identidades\":[\"Bruce Wayne\",\"Clark Kent\",\"Diana Prince\"]}"
      ]
    },
    {
      "cell_type": "code",
      "source": [
        "type(liga_justicia)"
      ],
      "metadata": {
        "colab": {
          "base_uri": "https://localhost:8080/"
        },
        "id": "E2K4WfwBb3X9",
        "outputId": "81100966-54fe-43af-dd6b-8ab0209e86ad"
      },
      "execution_count": 2,
      "outputs": [
        {
          "output_type": "execute_result",
          "data": {
            "text/plain": [
              "dict"
            ]
          },
          "metadata": {},
          "execution_count": 2
        }
      ]
    },
    {
      "cell_type": "code",
      "source": [
        "liga_justicia"
      ],
      "metadata": {
        "colab": {
          "base_uri": "https://localhost:8080/"
        },
        "id": "CGRfmxm6b7mk",
        "outputId": "42f3bd7f-62de-44b9-a4d7-01a95efeb0c9"
      },
      "execution_count": 3,
      "outputs": [
        {
          "output_type": "execute_result",
          "data": {
            "text/plain": [
              "{'superhéroes': ['Batman', 'Superman', 'WonderWoman'],\n",
              " 'identidades': ['Bruce Wayne', 'Clark Kent', 'Diana Prince']}"
            ]
          },
          "metadata": {},
          "execution_count": 3
        }
      ]
    },
    {
      "cell_type": "markdown",
      "source": [
        "Los diccionarios **NO** tienen indexación"
      ],
      "metadata": {
        "id": "ucUwVLr2c4CW"
      }
    },
    {
      "cell_type": "code",
      "source": [
        "liga_justicia{0}"
      ],
      "metadata": {
        "colab": {
          "base_uri": "https://localhost:8080/",
          "height": 106
        },
        "id": "0h1wCXNTcfrG",
        "outputId": "998e6589-11b3-4665-dd55-ea6f2c9e623e"
      },
      "execution_count": 5,
      "outputs": [
        {
          "output_type": "error",
          "ename": "SyntaxError",
          "evalue": "invalid syntax (ipython-input-591462058.py, line 1)",
          "traceback": [
            "\u001b[0;36m  File \u001b[0;32m\"/tmp/ipython-input-591462058.py\"\u001b[0;36m, line \u001b[0;32m1\u001b[0m\n\u001b[0;31m    liga_justicia{0}\u001b[0m\n\u001b[0m                 ^\u001b[0m\n\u001b[0;31mSyntaxError\u001b[0m\u001b[0;31m:\u001b[0m invalid syntax\n"
          ]
        }
      ]
    },
    {
      "cell_type": "code",
      "source": [
        "liga_justicia[\"superhéroes\"]"
      ],
      "metadata": {
        "colab": {
          "base_uri": "https://localhost:8080/"
        },
        "id": "qVQf2zXddCR-",
        "outputId": "8d14b9a9-de67-4fe8-dc2c-bac8810419af"
      },
      "execution_count": 7,
      "outputs": [
        {
          "output_type": "execute_result",
          "data": {
            "text/plain": [
              "['Batman', 'Superman', 'WonderWoman']"
            ]
          },
          "metadata": {},
          "execution_count": 7
        }
      ]
    },
    {
      "cell_type": "code",
      "source": [
        "liga_justicia[\"identidades\"][2]"
      ],
      "metadata": {
        "colab": {
          "base_uri": "https://localhost:8080/",
          "height": 35
        },
        "id": "kBf1xzOEdbfL",
        "outputId": "e9467d45-e679-4aea-d16f-9e7d31d9ca16"
      },
      "execution_count": 8,
      "outputs": [
        {
          "output_type": "execute_result",
          "data": {
            "text/plain": [
              "'Diana Prince'"
            ],
            "application/vnd.google.colaboratory.intrinsic+json": {
              "type": "string"
            }
          },
          "metadata": {},
          "execution_count": 8
        }
      ]
    },
    {
      "cell_type": "markdown",
      "source": [
        "#Funciones asociadas a los diccionarios"
      ],
      "metadata": {
        "id": "NVm7c96IeeNz"
      }
    },
    {
      "cell_type": "markdown",
      "source": [
        "##1. Clean(): Elimina todos los elementos del diccionario\n",
        "Sintaxis\n",
        "\n",
        "```\n",
        "diccionario.Clear()\n",
        "```\n",
        "\n"
      ],
      "metadata": {
        "id": "MmLrrML6gKEq"
      }
    },
    {
      "cell_type": "code",
      "source": [
        "liga_justicia.clear()\n",
        "liga_justicia"
      ],
      "metadata": {
        "colab": {
          "base_uri": "https://localhost:8080/"
        },
        "id": "6YroiCDgeMM7",
        "outputId": "77088fae-e661-4aba-97a4-49255cfdb334"
      },
      "execution_count": 29,
      "outputs": [
        {
          "output_type": "execute_result",
          "data": {
            "text/plain": [
              "{}"
            ]
          },
          "metadata": {},
          "execution_count": 29
        }
      ]
    },
    {
      "cell_type": "markdown",
      "source": [
        "##2.Pop(): Sacas a un héroe del diccionario y dice su nombre"
      ],
      "metadata": {
        "id": "XXQAFeVVhSCy"
      }
    },
    {
      "cell_type": "code",
      "source": [
        "liga_justicia.pop(\"superhéroes\")"
      ],
      "metadata": {
        "colab": {
          "base_uri": "https://localhost:8080/"
        },
        "id": "wtACcbrDeqas",
        "outputId": "aa453929-cdae-44d9-e528-e762400d2cf2"
      },
      "execution_count": 39,
      "outputs": [
        {
          "output_type": "execute_result",
          "data": {
            "text/plain": [
              "['Batman', 'Superman', 'WonderWoman']"
            ]
          },
          "metadata": {},
          "execution_count": 39
        }
      ]
    },
    {
      "cell_type": "code",
      "source": [
        "liga_justicia"
      ],
      "metadata": {
        "colab": {
          "base_uri": "https://localhost:8080/"
        },
        "id": "QgfH4ZkdhOvD",
        "outputId": "961ad7e1-9535-4ace-b3e9-f7cb808e8e26"
      },
      "execution_count": 40,
      "outputs": [
        {
          "output_type": "execute_result",
          "data": {
            "text/plain": [
              "{'identidades': ['Bruce Wayne', 'Clark Kent', 'Diana Prince']}"
            ]
          },
          "metadata": {},
          "execution_count": 40
        }
      ]
    },
    {
      "cell_type": "code",
      "source": [
        "supervillanos=[\"Brainiac\",\"Flash reverso\",\"guasón\"]"
      ],
      "metadata": {
        "id": "E54rc1Dah6N4"
      },
      "execution_count": 41,
      "outputs": []
    },
    {
      "cell_type": "markdown",
      "source": [
        "##3.Copy(): Hace una copia del diccionario"
      ],
      "metadata": {
        "id": "oyvtYgeCi_I_"
      }
    },
    {
      "cell_type": "code",
      "source": [
        "justicia_joven={}\n",
        "justicia_joven=liga_justicia.copy()\n",
        "justicia_joven"
      ],
      "metadata": {
        "colab": {
          "base_uri": "https://localhost:8080/"
        },
        "id": "UkfrDetkhtb3",
        "outputId": "e5784e8f-a279-4df8-cd87-29f529283e85"
      },
      "execution_count": 42,
      "outputs": [
        {
          "output_type": "execute_result",
          "data": {
            "text/plain": [
              "{'identidades': ['Bruce Wayne', 'Clark Kent', 'Diana Prince']}"
            ]
          },
          "metadata": {},
          "execution_count": 42
        }
      ]
    },
    {
      "cell_type": "code",
      "source": [
        "justicie_gank=liga_justicia\n",
        "justicie_gank"
      ],
      "metadata": {
        "colab": {
          "base_uri": "https://localhost:8080/"
        },
        "id": "T0iH0hwkizVn",
        "outputId": "b787a301-80a3-4efe-d5a9-0c24da48e02d"
      },
      "execution_count": 43,
      "outputs": [
        {
          "output_type": "execute_result",
          "data": {
            "text/plain": [
              "{'identidades': ['Bruce Wayne', 'Clark Kent', 'Diana Prince']}"
            ]
          },
          "metadata": {},
          "execution_count": 43
        }
      ]
    },
    {
      "cell_type": "markdown",
      "source": [
        "##4.Dict.fromkeys():Crea un nuevo diccionario"
      ],
      "metadata": {
        "id": "K5T9N-Hejfrp"
      }
    },
    {
      "cell_type": "code",
      "source": [
        "liga_justicia={\"superhéroes\": [\"Batman\",\"Superman\",\"WonderWoman\"],\"identidades\":[\"Bruce Wayne\",\"Clark Kent\",\"Diana Prince\"]}\n",
        "justicia = dict.fromkeys(liga_justicia,0)\n",
        "print(justicia)"
      ],
      "metadata": {
        "colab": {
          "base_uri": "https://localhost:8080/"
        },
        "id": "ouq_pbWbjiMQ",
        "outputId": "9bed40cd-fcc1-4c6e-a8fd-385d2cec8510"
      },
      "execution_count": 63,
      "outputs": [
        {
          "output_type": "stream",
          "name": "stdout",
          "text": [
            "{'superhéroes': 0, 'identidades': 0}\n"
          ]
        }
      ]
    },
    {
      "cell_type": "markdown",
      "source": [
        "#5.Values(): Son los datos asociados a cada clave dentro de la estructura del diccionario"
      ],
      "metadata": {
        "id": "xhXPUYZfspWq"
      }
    },
    {
      "cell_type": "code",
      "source": [
        "liga_justicia.values()"
      ],
      "metadata": {
        "colab": {
          "base_uri": "https://localhost:8080/"
        },
        "id": "lJyokXJesrVJ",
        "outputId": "e3fc32ef-2004-4bef-ec80-cb5c63fca993"
      },
      "execution_count": 64,
      "outputs": [
        {
          "output_type": "execute_result",
          "data": {
            "text/plain": [
              "dict_values([['Batman', 'Superman', 'WonderWoman'], ['Bruce Wayne', 'Clark Kent', 'Diana Prince']])"
            ]
          },
          "metadata": {},
          "execution_count": 64
        }
      ]
    },
    {
      "cell_type": "code",
      "source": [
        "liga_justicia"
      ],
      "metadata": {
        "colab": {
          "base_uri": "https://localhost:8080/"
        },
        "id": "Dbn1Mam3sxJo",
        "outputId": "5782b67d-be9c-4ced-f845-f8c4e40f00f9"
      },
      "execution_count": 65,
      "outputs": [
        {
          "output_type": "execute_result",
          "data": {
            "text/plain": [
              "{'superhéroes': ['Batman', 'Superman', 'WonderWoman'],\n",
              " 'identidades': ['Bruce Wayne', 'Clark Kent', 'Diana Prince']}"
            ]
          },
          "metadata": {},
          "execution_count": 65
        }
      ]
    },
    {
      "cell_type": "markdown",
      "source": [
        "#6.Update(): Añadir o modificar pares clave-valor en un diccionario existente"
      ],
      "metadata": {
        "id": "0aTdyVlLu33W"
      }
    },
    {
      "cell_type": "code",
      "source": [
        "liga_justicia.update(liga_justicia)"
      ],
      "metadata": {
        "id": "TgY-Eaklu64W"
      },
      "execution_count": 66,
      "outputs": []
    },
    {
      "cell_type": "code",
      "source": [
        "liga_justicia"
      ],
      "metadata": {
        "colab": {
          "base_uri": "https://localhost:8080/"
        },
        "id": "r9fdrMG0u_J4",
        "outputId": "cb7e351b-1474-4b6a-c551-4863b92a9172"
      },
      "execution_count": 67,
      "outputs": [
        {
          "output_type": "execute_result",
          "data": {
            "text/plain": [
              "{'superhéroes': ['Batman', 'Superman', 'WonderWoman'],\n",
              " 'identidades': ['Bruce Wayne', 'Clark Kent', 'Diana Prince']}"
            ]
          },
          "metadata": {},
          "execution_count": 67
        }
      ]
    }
  ]
}