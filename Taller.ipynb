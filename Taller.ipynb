{
  "nbformat": 4,
  "nbformat_minor": 0,
  "metadata": {
    "colab": {
      "provenance": [],
      "authorship_tag": "ABX9TyN7gyLpySG+/DKNIZxZlHIE",
      "include_colab_link": true
    },
    "kernelspec": {
      "name": "python3",
      "display_name": "Python 3"
    },
    "language_info": {
      "name": "python"
    }
  },
  "cells": [
    {
      "cell_type": "markdown",
      "metadata": {
        "id": "view-in-github",
        "colab_type": "text"
      },
      "source": [
        "<a href=\"https://colab.research.google.com/github/Wendy023/PROGCOM-B/blob/main/Taller.ipynb\" target=\"_parent\"><img src=\"https://colab.research.google.com/assets/colab-badge.svg\" alt=\"Open In Colab\"/></a>"
      ]
    },
    {
      "cell_type": "markdown",
      "source": [
        "#Resolver los siguientes ejercicios usando listas por comprensión"
      ],
      "metadata": {
        "id": "ofN_eg1ylexF"
      }
    },
    {
      "cell_type": "code",
      "execution_count": 1,
      "metadata": {
        "colab": {
          "base_uri": "https://localhost:8080/"
        },
        "id": "2prXyCQolYtz",
        "outputId": "eb0953c5-426f-489d-ab79-97fdbdd5f7a1"
      },
      "outputs": [
        {
          "output_type": "execute_result",
          "data": {
            "text/plain": [
              "[1, 4, 9, 16, 25, 36, 49, 64, 81, 100]"
            ]
          },
          "metadata": {},
          "execution_count": 1
        }
      ],
      "source": [
        "#1.Crear una lista con los cuadrados de los números del 1 al 10.\n",
        "cuadrados = [i ** 2 for i in range(1,11)]\n",
        "cuadrados"
      ]
    },
    {
      "cell_type": "code",
      "source": [
        "#2.Obtener una lista con los números pares del 0 al 20.\n",
        "NumerosPares = [i for i in range(1,21) if i%2 == 0]\n",
        "NumerosPares"
      ],
      "metadata": {
        "colab": {
          "base_uri": "https://localhost:8080/"
        },
        "id": "UmF7hzBjltkw",
        "outputId": "582d3829-be6d-44cd-a417-bd385d59ebd3"
      },
      "execution_count": 2,
      "outputs": [
        {
          "output_type": "execute_result",
          "data": {
            "text/plain": [
              "[2, 4, 6, 8, 10, 12, 14, 16, 18, 20]"
            ]
          },
          "metadata": {},
          "execution_count": 2
        }
      ]
    },
    {
      "cell_type": "code",
      "source": [
        "#3.Crear una lista con el doble de cada número del 1 al 5.\n",
        "NumerosDobles = [i * 2 for i in range(1,6)]\n",
        "NumerosDobles"
      ],
      "metadata": {
        "colab": {
          "base_uri": "https://localhost:8080/"
        },
        "id": "YnZKFVlulyW2",
        "outputId": "f1eaf547-4f4d-49fb-c7fb-8a3b1454891d"
      },
      "execution_count": 3,
      "outputs": [
        {
          "output_type": "execute_result",
          "data": {
            "text/plain": [
              "[2, 4, 6, 8, 10]"
            ]
          },
          "metadata": {},
          "execution_count": 3
        }
      ]
    },
    {
      "cell_type": "code",
      "source": [
        "#4. De la palabra \"programacion\", obtener solo las vocales.\n",
        "palabra = \"programacion\"\n",
        "vocales = [letra for letra in palabra if letra in \"aeiou\"]\n",
        "vocales"
      ],
      "metadata": {
        "colab": {
          "base_uri": "https://localhost:8080/"
        },
        "id": "mUQR691pl3lP",
        "outputId": "13867799-fd8b-4104-8bd9-f93479300770"
      },
      "execution_count": 4,
      "outputs": [
        {
          "output_type": "execute_result",
          "data": {
            "text/plain": [
              "['o', 'a', 'a', 'i', 'o']"
            ]
          },
          "metadata": {},
          "execution_count": 4
        }
      ]
    },
    {
      "cell_type": "code",
      "source": [
        "#5. Dada la lista [\"python\", \"java\", \"c++\"], obtener otra lista con las palabras en mayúsculas.\n",
        "Programas = [\"python\", \"java\", \"c++\"]\n",
        "Mayúsculas = [i.upper() for i in Programas]\n",
        "Mayúsculas"
      ],
      "metadata": {
        "colab": {
          "base_uri": "https://localhost:8080/"
        },
        "id": "U7hhqldCl-LO",
        "outputId": "c5b9c1ef-a3ea-473d-ad32-ab981e18e5cc"
      },
      "execution_count": 5,
      "outputs": [
        {
          "output_type": "execute_result",
          "data": {
            "text/plain": [
              "['PYTHON', 'JAVA', 'C++']"
            ]
          },
          "metadata": {},
          "execution_count": 5
        }
      ]
    },
    {
      "cell_type": "code",
      "source": [
        "#6. Crear una lista con \"par\" o \"impar\" para los números del 1 al 10.\n",
        "ListaNumers = [1,2,3,4,5,6,7,8,9,10]\n",
        "clasificacion = [(\"par\",x) if x%2==0 else (\"impar\",x) for x in ListaNumers]\n",
        "clasificacion"
      ],
      "metadata": {
        "colab": {
          "base_uri": "https://localhost:8080/"
        },
        "id": "kN1wJ93amsxD",
        "outputId": "31814eb6-3457-4bae-fd08-e2c854db0a8b"
      },
      "execution_count": 13,
      "outputs": [
        {
          "output_type": "execute_result",
          "data": {
            "text/plain": [
              "[('impar', 1),\n",
              " ('par', 2),\n",
              " ('impar', 3),\n",
              " ('par', 4),\n",
              " ('impar', 5),\n",
              " ('par', 6),\n",
              " ('impar', 7),\n",
              " ('par', 8),\n",
              " ('impar', 9),\n",
              " ('par', 10)]"
            ]
          },
          "metadata": {},
          "execution_count": 13
        }
      ]
    },
    {
      "cell_type": "code",
      "source": [
        "#7. Generar una lista de tuplas con el número y su cuadrado del 1 al 5.\n",
        "ListaNumeros = [1,2,3,4,5]\n",
        "NumerosCuadrados = [(x, \"su cuadrado es\" ,x**2 ) for x in ListaNumeros]\n",
        "NumerosCuadrados"
      ],
      "metadata": {
        "colab": {
          "base_uri": "https://localhost:8080/"
        },
        "id": "um43jHqJmvpD",
        "outputId": "56c6675b-7dde-4168-d689-d48732956485"
      },
      "execution_count": 7,
      "outputs": [
        {
          "output_type": "execute_result",
          "data": {
            "text/plain": [
              "[(1, 'su cuadrado es', 1),\n",
              " (2, 'su cuadrado es', 4),\n",
              " (3, 'su cuadrado es', 9),\n",
              " (4, 'su cuadrado es', 16),\n",
              " (5, 'su cuadrado es', 25)]"
            ]
          },
          "metadata": {},
          "execution_count": 7
        }
      ]
    },
    {
      "cell_type": "code",
      "source": [
        "#8. Crear una lista con todas las combinaciones de letras en [\"a\",\"b\"] y números en [1,2,3].\n",
        "Letras = [\"a\",\"b\"]\n",
        "Numeros = [1,2,3]\n",
        "Combinados = [(letra,Numero) for letra in Letras for Numero in Numeros]\n",
        "Combinados"
      ],
      "metadata": {
        "colab": {
          "base_uri": "https://localhost:8080/"
        },
        "id": "_B_46tRqmx42",
        "outputId": "9721a08f-43af-4770-fc50-3ebe6c069951"
      },
      "execution_count": 8,
      "outputs": [
        {
          "output_type": "execute_result",
          "data": {
            "text/plain": [
              "[('a', 1), ('a', 2), ('a', 3), ('b', 1), ('b', 2), ('b', 3)]"
            ]
          },
          "metadata": {},
          "execution_count": 8
        }
      ]
    },
    {
      "cell_type": "code",
      "source": [
        "#9. De la lista [\"sol\", \"estrella\", \"mar\", \"planeta\"], obtener solo las palabras con más de 4 letras.\n",
        "palabras =[\"sol\", \"estrella\", \"mar\", \"planeta\"]\n",
        "filtro = [i for i in palabras if len(i) > 4]\n",
        "filtro"
      ],
      "metadata": {
        "colab": {
          "base_uri": "https://localhost:8080/"
        },
        "id": "5CRZ6Ws0m1sk",
        "outputId": "ab9a06b6-c67a-46eb-a647-326beac9a8bd"
      },
      "execution_count": 10,
      "outputs": [
        {
          "output_type": "execute_result",
          "data": {
            "text/plain": [
              "['estrella', 'planeta']"
            ]
          },
          "metadata": {},
          "execution_count": 10
        }
      ]
    },
    {
      "cell_type": "code",
      "source": [
        "#10.Clasificar la temperatura de una lista. Si la temperatura es menor a 26, el clima es \"frío\". Si está entre 26 a 29, es \"templado\". Si es mayor a 29, el clima es \"caliente\"\n",
        "n=list(range(1,31))\n",
        "lista10=[(\"frío\",x) if x<26 else (\"templado\",x) if x>=26 and x<=29 else (\"caliente\",x) for x in n]\n",
        "lista10"
      ],
      "metadata": {
        "colab": {
          "base_uri": "https://localhost:8080/"
        },
        "id": "gkI6ib8xm2pC",
        "outputId": "00d5213b-eec4-4e86-9142-153791ad3e00"
      },
      "execution_count": 11,
      "outputs": [
        {
          "output_type": "execute_result",
          "data": {
            "text/plain": [
              "[('frío', 1),\n",
              " ('frío', 2),\n",
              " ('frío', 3),\n",
              " ('frío', 4),\n",
              " ('frío', 5),\n",
              " ('frío', 6),\n",
              " ('frío', 7),\n",
              " ('frío', 8),\n",
              " ('frío', 9),\n",
              " ('frío', 10),\n",
              " ('frío', 11),\n",
              " ('frío', 12),\n",
              " ('frío', 13),\n",
              " ('frío', 14),\n",
              " ('frío', 15),\n",
              " ('frío', 16),\n",
              " ('frío', 17),\n",
              " ('frío', 18),\n",
              " ('frío', 19),\n",
              " ('frío', 20),\n",
              " ('frío', 21),\n",
              " ('frío', 22),\n",
              " ('frío', 23),\n",
              " ('frío', 24),\n",
              " ('frío', 25),\n",
              " ('templado', 26),\n",
              " ('templado', 27),\n",
              " ('templado', 28),\n",
              " ('templado', 29),\n",
              " ('caliente', 30)]"
            ]
          },
          "metadata": {},
          "execution_count": 11
        }
      ]
    }
  ]
}