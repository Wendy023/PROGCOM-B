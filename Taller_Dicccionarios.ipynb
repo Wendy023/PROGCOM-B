{
  "nbformat": 4,
  "nbformat_minor": 0,
  "metadata": {
    "colab": {
      "provenance": [],
      "authorship_tag": "ABX9TyOTwVyYha8nY3oiSDDFZi8Y",
      "include_colab_link": true
    },
    "kernelspec": {
      "name": "python3",
      "display_name": "Python 3"
    },
    "language_info": {
      "name": "python"
    }
  },
  "cells": [
    {
      "cell_type": "markdown",
      "metadata": {
        "id": "view-in-github",
        "colab_type": "text"
      },
      "source": [
        "<a href=\"https://colab.research.google.com/github/Wendy023/PROGCOM-B/blob/main/Taller_Dicccionarios.ipynb\" target=\"_parent\"><img src=\"https://colab.research.google.com/assets/colab-badge.svg\" alt=\"Open In Colab\"/></a>"
      ]
    },
    {
      "cell_type": "markdown",
      "source": [
        "##TALLER DICCIONARIOS"
      ],
      "metadata": {
        "id": "4iPzOI8qI6B6"
      }
    },
    {
      "cell_type": "code",
      "execution_count": null,
      "metadata": {
        "id": "B1KkZ0Jv45ES"
      },
      "outputs": [],
      "source": [
        "#1.Crea una función que reciba una lista de nombres y retorne cuántos nombres comienzan con vocal.\n",
        "def contar_vocales(nombres):\n",
        " Vocales=\"a,e,i,o,u,A,E,I,O,U\"\n",
        " return sum(1 for i in nombres if i[0] in Vocales)"
      ]
    },
    {
      "cell_type": "code",
      "source": [
        " nombres=[\"Ana\",\"Pedro\",\"Oscar\", \"Alisson\",\"Camila\"]\n",
        " contar_vocales(nombres)"
      ],
      "metadata": {
        "colab": {
          "base_uri": "https://localhost:8080/"
        },
        "id": "PBy4aeAz7Kbd",
        "outputId": "cdfd827b-3072-4cd9-b145-e8696ead1ba4"
      },
      "execution_count": null,
      "outputs": [
        {
          "output_type": "execute_result",
          "data": {
            "text/plain": [
              "3"
            ]
          },
          "metadata": {},
          "execution_count": 9
        }
      ]
    },
    {
      "cell_type": "code",
      "source": [
        "#2.Crea una función que reciba una lista y retorne otra lista sin elementos repetidos.\n",
        "def eliminar_repetidos(lista):\n",
        " nueva_lista=[]\n",
        " for i in lista:\n",
        "  if i not in nueva_lista:\n",
        "   nueva_lista.append(i)\n",
        " return nueva_lista"
      ],
      "metadata": {
        "id": "OkCu9fW56-Kl"
      },
      "execution_count": null,
      "outputs": []
    },
    {
      "cell_type": "code",
      "source": [
        "lista=[1,2,3,4,5,6,7,8,9,1,5,7,3]\n",
        "eliminar_repetidos(lista)"
      ],
      "metadata": {
        "colab": {
          "base_uri": "https://localhost:8080/"
        },
        "id": "h6cRgHKQ6utd",
        "outputId": "2e182b0d-d6d7-4540-d7af-f501de411e71"
      },
      "execution_count": null,
      "outputs": [
        {
          "output_type": "execute_result",
          "data": {
            "text/plain": [
              "[1, 2, 3, 4, 5, 6, 7, 8, 9]"
            ]
          },
          "metadata": {},
          "execution_count": 11
        }
      ]
    },
    {
      "cell_type": "code",
      "source": [
        "#3.Crea una función que reciba una lista de números y retorne solo los que son primos.\n",
        "def es_primo(numero):\n",
        " if numero<2:\n",
        "  return False\n",
        " for i in range(2,numero):\n",
        "  if numero%i==0:\n",
        "   return False\n",
        " return True"
      ],
      "metadata": {
        "id": "5EpTYKw59Ks0"
      },
      "execution_count": null,
      "outputs": []
    },
    {
      "cell_type": "code",
      "source": [
        "def filtra_lista(lista):\n",
        "  return [i for i in lista if es_primo(i)]"
      ],
      "metadata": {
        "id": "2q-AQFWR9mwL"
      },
      "execution_count": null,
      "outputs": []
    },
    {
      "cell_type": "code",
      "source": [
        "numeros=[1,2,3,4,5,6,7,8,9,10,11,12,13,14,15]\n",
        "filtra_lista(numeros)"
      ],
      "metadata": {
        "colab": {
          "base_uri": "https://localhost:8080/"
        },
        "id": "WTadkslV9t1T",
        "outputId": "d7247fea-eaf2-454c-e8fa-1be3dd3e23e7"
      },
      "execution_count": null,
      "outputs": [
        {
          "output_type": "execute_result",
          "data": {
            "text/plain": [
              "[2, 3, 5, 7, 11, 13]"
            ]
          },
          "metadata": {},
          "execution_count": 14
        }
      ]
    },
    {
      "cell_type": "code",
      "source": [
        "#4.Crea una función que reciba un diccionario con claves \"nombre\", \"edad\", y retorne un mensaje con esos datos.\n",
        "def mostrar_datos(persona):\n",
        "  nombre=persona[\"nombre\"]\n",
        "  edad=persona[\"edad\"]\n",
        "  return f\"El nombre es {nombre} y la edad es {edad}\""
      ],
      "metadata": {
        "id": "k_XAFLHg9xO7"
      },
      "execution_count": null,
      "outputs": []
    },
    {
      "cell_type": "code",
      "source": [
        "datos={\"nombre\": \"Ana\", \"edad\": 25}\n",
        "mostrar_datos(datos)"
      ],
      "metadata": {
        "colab": {
          "base_uri": "https://localhost:8080/",
          "height": 35
        },
        "id": "65613t_e-jwt",
        "outputId": "3072c57f-5038-4b4a-a656-6145f8fd88d1"
      },
      "execution_count": null,
      "outputs": [
        {
          "output_type": "execute_result",
          "data": {
            "text/plain": [
              "'El nombre es Ana y la edad es 25'"
            ],
            "application/vnd.google.colaboratory.intrinsic+json": {
              "type": "string"
            }
          },
          "metadata": {},
          "execution_count": 5
        }
      ]
    }
  ]
}