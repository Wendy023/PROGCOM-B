{
  "nbformat": 4,
  "nbformat_minor": 0,
  "metadata": {
    "colab": {
      "provenance": [],
      "authorship_tag": "ABX9TyNMZ4DiNJdO+dExgcuIRRZB",
      "include_colab_link": true
    },
    "kernelspec": {
      "name": "python3",
      "display_name": "Python 3"
    },
    "language_info": {
      "name": "python"
    }
  },
  "cells": [
    {
      "cell_type": "markdown",
      "metadata": {
        "id": "view-in-github",
        "colab_type": "text"
      },
      "source": [
        "<a href=\"https://colab.research.google.com/github/Wendy023/PROGCOM-B/blob/main/GQ3.ipynb\" target=\"_parent\"><img src=\"https://colab.research.google.com/assets/colab-badge.svg\" alt=\"Open In Colab\"/></a>"
      ]
    },
    {
      "cell_type": "code",
      "execution_count": 1,
      "metadata": {
        "colab": {
          "base_uri": "https://localhost:8080/"
        },
        "id": "ACGL3ZKMMvWr",
        "outputId": "fe874995-5c08-48b7-93bb-3326d75f6b88"
      },
      "outputs": [
        {
          "output_type": "stream",
          "name": "stdout",
          "text": [
            "=== CÁLCULO DE ENERGÍA Y PANELES SOLARES ===\n",
            "¿Cuántos electrodomésticos tienes?: 2\n",
            "\n",
            "Nombre del electrodoméstico 1: televisor\n",
            "Potencia en watts (W): 100\n",
            "Horas de uso diario: 12\n",
            "\n",
            "Nombre del electrodoméstico 2: nevera\n",
            "Potencia en watts (W): 100\n",
            "Horas de uso diario: 24\n",
            "\n",
            "--- RESULTADOS ---\n",
            "televisor consume 1.20 kWh/día\n",
            "nevera consume 2.40 kWh/día\n",
            "\n",
            "Consumo total diario: 3.60 kWh\n",
            "Consumo total mensual (30 días): 108.00 kWh\n",
            "\n",
            "Necesitas aproximadamente 2.2 paneles solares de 400 W.\n"
          ]
        }
      ],
      "source": [
        "def calcular_consumo():\n",
        "    electrodomesticos = []\n",
        "    total_kwh_dia = 0\n",
        "\n",
        "    print(\"=== CÁLCULO DE ENERGÍA Y PANELES SOLARES ===\")\n",
        "    n = int(input(\"¿Cuántos electrodomésticos tienes?: \"))\n",
        "\n",
        "    for i in range(n):\n",
        "        nombre = input(f\"\\nNombre del electrodoméstico {i+1}: \")\n",
        "        potencia = float(input(\"Potencia en watts (W): \"))\n",
        "        horas = float(input(\"Horas de uso diario: \"))\n",
        "\n",
        "# Consumo diario en kWh\n",
        "        consumo_dia = (potencia * horas) / 1000\n",
        "        electrodomesticos.append((nombre, consumo_dia))\n",
        "        total_kwh_dia += consumo_dia\n",
        "\n",
        "    print(\"\\n--- RESULTADOS ---\")\n",
        "    for e in electrodomesticos:\n",
        "        print(f\"{e[0]} consume {e[1]:.2f} kWh/día\")\n",
        "\n",
        "    print(f\"\\nConsumo total diario: {total_kwh_dia:.2f} kWh\")\n",
        "    print(f\"Consumo total mensual (30 días): {total_kwh_dia*30:.2f} kWh\")\n",
        "\n",
        "# Cálculo de paneles\n",
        "    energia_panel = 1.6  # kWh por día (aprox. para un panel de 400 W)\n",
        "    paneles = total_kwh_dia / energia_panel\n",
        "\n",
        "    print(f\"\\nNecesitas aproximadamente {paneles:.1f} paneles solares de 400 W.\")\n",
        "\n",
        "# Ejecutar el programa\n",
        "calcular_consumo()\n"
      ]
    }
  ]
}