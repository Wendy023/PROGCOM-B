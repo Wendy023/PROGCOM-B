{
  "nbformat": 4,
  "nbformat_minor": 0,
  "metadata": {
    "colab": {
      "provenance": [],
      "authorship_tag": "ABX9TyNb2RD0FUufjhmzSB+7GmKq",
      "include_colab_link": true
    },
    "kernelspec": {
      "name": "python3",
      "display_name": "Python 3"
    },
    "language_info": {
      "name": "python"
    }
  },
  "cells": [
    {
      "cell_type": "markdown",
      "metadata": {
        "id": "view-in-github",
        "colab_type": "text"
      },
      "source": [
        "<a href=\"https://colab.research.google.com/github/Wendy023/PROGCOM-B/blob/main/Baile_TikTok.ipynb\" target=\"_parent\"><img src=\"https://colab.research.google.com/assets/colab-badge.svg\" alt=\"Open In Colab\"/></a>"
      ]
    },
    {
      "cell_type": "markdown",
      "source": [
        "https://youtube.com/shorts/mwLbZyHq_08?si=7zsu3uRFCkLztkyN"
      ],
      "metadata": {
        "id": "24FTHtU6ci8O"
      }
    },
    {
      "cell_type": "code",
      "execution_count": 3,
      "metadata": {
        "id": "rDHTx3XTchZV"
      },
      "outputs": [],
      "source": [
        "def paso1(a,b):\n",
        "  for j in range(b):\n",
        "    for i in range(a):\n",
        "      print(\"Alzo el brazo hacia la derecha\")\n",
        "    for i in range(a):\n",
        "      print(\"Alzo el brazo hacia la izquierda\")"
      ]
    },
    {
      "cell_type": "code",
      "source": [
        "paso1(1,2)"
      ],
      "metadata": {
        "colab": {
          "base_uri": "https://localhost:8080/"
        },
        "id": "mW2xBw_Fef8m",
        "outputId": "8973a182-0a76-45a1-9f42-a07a8fe21fd9"
      },
      "execution_count": 4,
      "outputs": [
        {
          "output_type": "stream",
          "name": "stdout",
          "text": [
            "Alzo el brazo hacia la derecha\n",
            "Alzo el brazo hacia la izquierda\n",
            "Alzo el brazo hacia la derecha\n",
            "Alzo el brazo hacia la izquierda\n"
          ]
        }
      ]
    },
    {
      "cell_type": "code",
      "source": [
        "def paso2(a,b):\n",
        "  for i in range(a):\n",
        "    print(\"Salto\")\n",
        "    print(\"Al mismo tiempo afirmar con la cabeza\")"
      ],
      "metadata": {
        "id": "Laolyww8gEzb"
      },
      "execution_count": 13,
      "outputs": []
    },
    {
      "cell_type": "code",
      "source": [
        "paso2(4,\"saltar\")"
      ],
      "metadata": {
        "colab": {
          "base_uri": "https://localhost:8080/"
        },
        "id": "skzX5sFBiBVW",
        "outputId": "b31eaa73-3a24-4d04-9b1d-09b01fbb4caa"
      },
      "execution_count": 14,
      "outputs": [
        {
          "output_type": "stream",
          "name": "stdout",
          "text": [
            "Salto\n",
            "Al mismo tiempo afirmar con la cabeza\n",
            "Salto\n",
            "Al mismo tiempo afirmar con la cabeza\n",
            "Salto\n",
            "Al mismo tiempo afirmar con la cabeza\n",
            "Salto\n",
            "Al mismo tiempo afirmar con la cabeza\n"
          ]
        }
      ]
    },
    {
      "cell_type": "code",
      "source": [
        "def paso3(a,b):\n",
        "  for i in range(a):\n",
        "   print(\"Mantengo los brazos arriba\")\n",
        "def muevo_cadera(a,b):\n",
        "  for j in range (b):\n",
        "    for i in range(a):\n",
        "      print(\"Muevo la cadera hacia la derecha\")\n",
        "    for i in range(a):\n",
        "      print(\"Muevo la cadera hacia la izquierda\")"
      ],
      "metadata": {
        "id": "cIL4DSvRizl8"
      },
      "execution_count": 17,
      "outputs": []
    },
    {
      "cell_type": "code",
      "source": [
        "paso3(1,\"Mantengo los brazos arriba\")\n",
        "muevo_cadera(1,2)"
      ],
      "metadata": {
        "colab": {
          "base_uri": "https://localhost:8080/"
        },
        "id": "H1wguWzFkAGk",
        "outputId": "9d231a3b-ffab-492f-d39a-13747f62ed9f"
      },
      "execution_count": 18,
      "outputs": [
        {
          "output_type": "stream",
          "name": "stdout",
          "text": [
            "Mantengo los brazos arriba\n",
            "Muevo la cadera hacia la derecha\n",
            "Muevo la cadera hacia la izquierda\n",
            "Muevo la cadera hacia la derecha\n",
            "Muevo la cadera hacia la izquierda\n"
          ]
        }
      ]
    },
    {
      "cell_type": "code",
      "source": [
        "def paso4(a,b):\n",
        "  for j in range(b):\n",
        "    print(\"Muevo los puños hacia la derecha\")\n",
        "    print(\"Muevo los puños hacia la izquierda\")\n",
        "\n",
        "\n",
        "def mover_la_cabeza(a,b):\n",
        "  for i in range(a):\n",
        "   print(\"Al mismo tiempo la cabeza locamente\")"
      ],
      "metadata": {
        "id": "oDvsPq2tkjG6"
      },
      "execution_count": 33,
      "outputs": []
    },
    {
      "cell_type": "code",
      "source": [
        "paso4(1,2)\n",
        "mover_la_cabeza(1,\"Al mismo tiempo la cabeza locamente\")"
      ],
      "metadata": {
        "colab": {
          "base_uri": "https://localhost:8080/"
        },
        "id": "v7LuZxMtltz_",
        "outputId": "4006570c-bc04-4377-f8cd-7900ad804adc"
      },
      "execution_count": 34,
      "outputs": [
        {
          "output_type": "stream",
          "name": "stdout",
          "text": [
            "Muevo los puños hacia la derecha\n",
            "Muevo los puños hacia la izquierda\n",
            "Muevo los puños hacia la derecha\n",
            "Muevo los puños hacia la izquierda\n",
            "Al mismo tiempo la cabeza locamente\n"
          ]
        }
      ]
    },
    {
      "cell_type": "code",
      "source": [
        "def paso5(a,b):\n",
        "  for j in range (b):\n",
        "    for i in range(a):\n",
        "      print(\"Muevo la cadera hacia la derecha\")\n",
        "    for i in range(a):\n",
        "      print(\"Muevo la cadera hacia la izquierda\")\n",
        "def palmas_abajo(a,b):\n",
        "  for i in range(a):\n",
        "    print(\"Se mantiene flexion de piernas y palmas abajo\")"
      ],
      "metadata": {
        "id": "sqrZYhHmoIYq"
      },
      "execution_count": 42,
      "outputs": []
    },
    {
      "cell_type": "code",
      "source": [
        "paso5(1,2)\n",
        "palmas_abajo(1,\"Se mantiene flexion de piernas y palmas abajo\")"
      ],
      "metadata": {
        "colab": {
          "base_uri": "https://localhost:8080/"
        },
        "id": "aXydo74io9zU",
        "outputId": "98b83cc0-c37b-46db-ed34-7ffe36721ddc"
      },
      "execution_count": 43,
      "outputs": [
        {
          "output_type": "stream",
          "name": "stdout",
          "text": [
            "Muevo la cadera hacia la derecha\n",
            "Muevo la cadera hacia la izquierda\n",
            "Muevo la cadera hacia la derecha\n",
            "Muevo la cadera hacia la izquierda\n",
            "Se mantiene flexion de piernas y palmas abajo\n"
          ]
        }
      ]
    },
    {
      "cell_type": "code",
      "source": [
        "def paso6(a,b):\n",
        "  for j in range(b):\n",
        "    for i in range(a):\n",
        "      print(\"Muevo los brazos hacia la derecha\")\n",
        "    for i in range(a):\n",
        "      print(\"Muevo los brazos hacia la izquierda\")\n",
        "def mover_piernas(a,b):\n",
        "  for i in range(a):\n",
        "    print(\"Se mueven las piernas al sentido contratio de los brazos\")"
      ],
      "metadata": {
        "id": "G9pJGRntpqzl"
      },
      "execution_count": 44,
      "outputs": []
    },
    {
      "cell_type": "code",
      "source": [
        "paso6(1,2)\n",
        "mover_piernas(1,\"Se mueven las piernas al sentido contratio de los brazos\")"
      ],
      "metadata": {
        "colab": {
          "base_uri": "https://localhost:8080/"
        },
        "id": "GcHkPgvbqZeM",
        "outputId": "e4d14aea-5af2-44ae-871b-4fbdf3cfe69f"
      },
      "execution_count": 45,
      "outputs": [
        {
          "output_type": "stream",
          "name": "stdout",
          "text": [
            "Muevo los brazos hacia la derecha\n",
            "Muevo los brazos hacia la izquierda\n",
            "Muevo los brazos hacia la derecha\n",
            "Muevo los brazos hacia la izquierda\n",
            "Se mueven las piernas al sentido contratio de los brazos\n"
          ]
        }
      ]
    },
    {
      "cell_type": "code",
      "source": [
        "def paso6(a,b):\n",
        "  for i in range(a):\n",
        "    print(\"Muevo los brazos hacia la derecha\")\n",
        "    print(\"Muevo las piernas hacia la izquierda\")\n",
        "    print(\"Muevo los brazos hacia la izquierda\")\n",
        "    print(\"Muevo las piernas hacia la derecha\")"
      ],
      "metadata": {
        "id": "s2pegtLpqvYT"
      },
      "execution_count": 46,
      "outputs": []
    },
    {
      "cell_type": "code",
      "source": [
        "paso6(2,\"Muevo los brazos hacia la derecha\")"
      ],
      "metadata": {
        "colab": {
          "base_uri": "https://localhost:8080/"
        },
        "id": "si2UcyWVrCxs",
        "outputId": "51e8fd59-df67-4e4c-c26d-be3737527c69"
      },
      "execution_count": 52,
      "outputs": [
        {
          "output_type": "stream",
          "name": "stdout",
          "text": [
            "Muevo los brazos hacia la derecha\n",
            "Muevo las piernas hacia la izquierda\n",
            "Muevo los brazos hacia la izquierda\n",
            "Muevo las piernas hacia la derecha\n",
            "Muevo los brazos hacia la derecha\n",
            "Muevo las piernas hacia la izquierda\n",
            "Muevo los brazos hacia la izquierda\n",
            "Muevo las piernas hacia la derecha\n"
          ]
        }
      ]
    },
    {
      "cell_type": "code",
      "source": [
        "def paso7(a,b):\n",
        "  for i in range(a):\n",
        "    print(\"Muevo los brazos hacia la derecha\")\n",
        "    print(\"Al mismo tiempo alzo la pierna izquierda hacia la derecha\")\n",
        "    print(\"brazos estirados hacia el frente\")\n",
        "    print(\"Muevo los brazos hacia la izquierda\")\n",
        "    print(\"Al mismo tiempo alzo la pierna derecha hacia la izquierda\")"
      ],
      "metadata": {
        "id": "VMF-efDOrrrp"
      },
      "execution_count": 59,
      "outputs": []
    },
    {
      "cell_type": "code",
      "source": [
        "paso7(1,\"Muevo los brazos hacia la derecha\")"
      ],
      "metadata": {
        "colab": {
          "base_uri": "https://localhost:8080/"
        },
        "id": "ahL7Qap5sL1B",
        "outputId": "cf1c9912-e1b1-4063-8b7a-d4fffbd2469f"
      },
      "execution_count": 60,
      "outputs": [
        {
          "output_type": "stream",
          "name": "stdout",
          "text": [
            "Muevo los brazos hacia la derecha\n",
            "Al mismo tiempo alzo la pierna izquierda hacia la derecha\n",
            "brazos estirados hacia el frente\n",
            "Muevo los brazos hacia la izquierda\n",
            "Al mismo tiempo alzo la pierna derecha hacia la izquierda\n"
          ]
        }
      ]
    },
    {
      "cell_type": "code",
      "source": [
        "def paso8(a,b):\n",
        "  for i in range(a):\n",
        "    print(\"Manos cruzadas sobre el pecho\")\n",
        "    print(\"Manos en los hombros\")\n",
        "    print(\"Mano izquierda en el menton y la mano derecha en la mejilla derecha\")\n",
        "    print(\"Mano derecha en el menton y la mano izquierda en la mejilla izquierda\")\n",
        "    print(\"Brazo izquierdo arriba y brazo derecha en la cintura\")"
      ],
      "metadata": {
        "id": "E46GMRcAsefT"
      },
      "execution_count": 61,
      "outputs": []
    },
    {
      "cell_type": "code",
      "source": [
        "paso8(1,\"Manos cruzadas sobre el pecho\")"
      ],
      "metadata": {
        "colab": {
          "base_uri": "https://localhost:8080/"
        },
        "id": "wMgNC5rytP-8",
        "outputId": "209dc122-a267-4429-b592-763df382e25f"
      },
      "execution_count": 62,
      "outputs": [
        {
          "output_type": "stream",
          "name": "stdout",
          "text": [
            "Manos cruzadas sobre el pecho\n",
            "Manos en los hombros\n",
            "Mano izquierda en el menton y la mano derecha en la mejilla derecha\n",
            "Mano derecha en el menton y la mano izquierda en la mejilla izquierda\n",
            "Brazo izquierdo arriba y brazo derecha en la cintura\n"
          ]
        }
      ]
    }
  ]
}