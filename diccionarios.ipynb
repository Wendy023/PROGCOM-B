{
  "nbformat": 4,
  "nbformat_minor": 0,
  "metadata": {
    "colab": {
      "provenance": [],
      "authorship_tag": "ABX9TyOthFJC6ki17XylHhZEUjwX",
      "include_colab_link": true
    },
    "kernelspec": {
      "name": "python3",
      "display_name": "Python 3"
    },
    "language_info": {
      "name": "python"
    }
  },
  "cells": [
    {
      "cell_type": "markdown",
      "metadata": {
        "id": "view-in-github",
        "colab_type": "text"
      },
      "source": [
        "<a href=\"https://colab.research.google.com/github/Wendy023/PROGCOM-B/blob/main/diccionarios.ipynb\" target=\"_parent\"><img src=\"https://colab.research.google.com/assets/colab-badge.svg\" alt=\"Open In Colab\"/></a>"
      ]
    },
    {
      "cell_type": "markdown",
      "source": [
        "##Diccionarios\n",
        "Estructura de datos que almacenan valores\n",
        "\n",
        "sintaxis\n",
        "\n",
        "\n",
        "```\n",
        "nombre_diccionario={\"llave\":valor}\n",
        "```\n",
        "* Llave: **Siempre** tiene que ser alfanumerico.\n",
        "* Valor: Cualquier tipo de dato\n",
        "\n"
      ],
      "metadata": {
        "id": "dL51Ux4DajXn"
      }
    },
    {
      "cell_type": "code",
      "execution_count": null,
      "metadata": {
        "id": "p4aWuicLaikA"
      },
      "outputs": [],
      "source": [
        "liga_justicia={\"superhéroes\": [\"Batman\",\"Superman\",\"WonderWoman\"],\"identidades\":[\"Bruce Wayne\",\"Clark Kent\",\"Diana Prince\"]}"
      ]
    },
    {
      "cell_type": "code",
      "source": [
        "type(liga_justicia)"
      ],
      "metadata": {
        "colab": {
          "base_uri": "https://localhost:8080/"
        },
        "id": "E2K4WfwBb3X9",
        "outputId": "81100966-54fe-43af-dd6b-8ab0209e86ad"
      },
      "execution_count": null,
      "outputs": [
        {
          "output_type": "execute_result",
          "data": {
            "text/plain": [
              "dict"
            ]
          },
          "metadata": {},
          "execution_count": 2
        }
      ]
    },
    {
      "cell_type": "code",
      "source": [
        "liga_justicia"
      ],
      "metadata": {
        "colab": {
          "base_uri": "https://localhost:8080/"
        },
        "id": "CGRfmxm6b7mk",
        "outputId": "42f3bd7f-62de-44b9-a4d7-01a95efeb0c9"
      },
      "execution_count": null,
      "outputs": [
        {
          "output_type": "execute_result",
          "data": {
            "text/plain": [
              "{'superhéroes': ['Batman', 'Superman', 'WonderWoman'],\n",
              " 'identidades': ['Bruce Wayne', 'Clark Kent', 'Diana Prince']}"
            ]
          },
          "metadata": {},
          "execution_count": 3
        }
      ]
    },
    {
      "cell_type": "markdown",
      "source": [
        "Los diccionarios **NO** tienen indexación"
      ],
      "metadata": {
        "id": "ucUwVLr2c4CW"
      }
    },
    {
      "cell_type": "code",
      "source": [
        "liga_justicia{0}"
      ],
      "metadata": {
        "colab": {
          "base_uri": "https://localhost:8080/",
          "height": 106
        },
        "id": "0h1wCXNTcfrG",
        "outputId": "998e6589-11b3-4665-dd55-ea6f2c9e623e"
      },
      "execution_count": null,
      "outputs": [
        {
          "output_type": "error",
          "ename": "SyntaxError",
          "evalue": "invalid syntax (ipython-input-591462058.py, line 1)",
          "traceback": [
            "\u001b[0;36m  File \u001b[0;32m\"/tmp/ipython-input-591462058.py\"\u001b[0;36m, line \u001b[0;32m1\u001b[0m\n\u001b[0;31m    liga_justicia{0}\u001b[0m\n\u001b[0m                 ^\u001b[0m\n\u001b[0;31mSyntaxError\u001b[0m\u001b[0;31m:\u001b[0m invalid syntax\n"
          ]
        }
      ]
    },
    {
      "cell_type": "code",
      "source": [
        "liga_justicia[\"superhéroes\"]"
      ],
      "metadata": {
        "colab": {
          "base_uri": "https://localhost:8080/"
        },
        "id": "qVQf2zXddCR-",
        "outputId": "8d14b9a9-de67-4fe8-dc2c-bac8810419af"
      },
      "execution_count": null,
      "outputs": [
        {
          "output_type": "execute_result",
          "data": {
            "text/plain": [
              "['Batman', 'Superman', 'WonderWoman']"
            ]
          },
          "metadata": {},
          "execution_count": 7
        }
      ]
    },
    {
      "cell_type": "code",
      "source": [
        "liga_justicia[\"identidades\"][2]"
      ],
      "metadata": {
        "colab": {
          "base_uri": "https://localhost:8080/",
          "height": 35
        },
        "id": "kBf1xzOEdbfL",
        "outputId": "e9467d45-e679-4aea-d16f-9e7d31d9ca16"
      },
      "execution_count": null,
      "outputs": [
        {
          "output_type": "execute_result",
          "data": {
            "text/plain": [
              "'Diana Prince'"
            ],
            "application/vnd.google.colaboratory.intrinsic+json": {
              "type": "string"
            }
          },
          "metadata": {},
          "execution_count": 8
        }
      ]
    },
    {
      "cell_type": "markdown",
      "source": [
        "#Funciones asociadas a los diccionarios"
      ],
      "metadata": {
        "id": "NVm7c96IeeNz"
      }
    },
    {
      "cell_type": "markdown",
      "source": [
        "##1. Clean(): Elimina todos los elementos del diccionario\n",
        "Sintaxis\n",
        "\n",
        "```\n",
        "diccionario.Clear()\n",
        "```\n",
        "\n"
      ],
      "metadata": {
        "id": "MmLrrML6gKEq"
      }
    },
    {
      "cell_type": "code",
      "source": [
        "liga_justicia.clear()\n",
        "liga_justicia"
      ],
      "metadata": {
        "colab": {
          "base_uri": "https://localhost:8080/"
        },
        "id": "6YroiCDgeMM7",
        "outputId": "77088fae-e661-4aba-97a4-49255cfdb334"
      },
      "execution_count": null,
      "outputs": [
        {
          "output_type": "execute_result",
          "data": {
            "text/plain": [
              "{}"
            ]
          },
          "metadata": {},
          "execution_count": 29
        }
      ]
    },
    {
      "cell_type": "markdown",
      "source": [
        "##2.Pop(): Sacas a un héroe del diccionario y dice su nombre"
      ],
      "metadata": {
        "id": "XXQAFeVVhSCy"
      }
    },
    {
      "cell_type": "code",
      "source": [
        "liga_justicia.pop(\"superhéroes\")"
      ],
      "metadata": {
        "colab": {
          "base_uri": "https://localhost:8080/"
        },
        "id": "wtACcbrDeqas",
        "outputId": "aa453929-cdae-44d9-e528-e762400d2cf2"
      },
      "execution_count": null,
      "outputs": [
        {
          "output_type": "execute_result",
          "data": {
            "text/plain": [
              "['Batman', 'Superman', 'WonderWoman']"
            ]
          },
          "metadata": {},
          "execution_count": 39
        }
      ]
    },
    {
      "cell_type": "code",
      "source": [
        "liga_justicia"
      ],
      "metadata": {
        "colab": {
          "base_uri": "https://localhost:8080/"
        },
        "id": "QgfH4ZkdhOvD",
        "outputId": "961ad7e1-9535-4ace-b3e9-f7cb808e8e26"
      },
      "execution_count": null,
      "outputs": [
        {
          "output_type": "execute_result",
          "data": {
            "text/plain": [
              "{'identidades': ['Bruce Wayne', 'Clark Kent', 'Diana Prince']}"
            ]
          },
          "metadata": {},
          "execution_count": 40
        }
      ]
    },
    {
      "cell_type": "code",
      "source": [
        "supervillanos=[\"Brainiac\",\"Flash reverso\",\"guasón\"]"
      ],
      "metadata": {
        "id": "E54rc1Dah6N4"
      },
      "execution_count": null,
      "outputs": []
    },
    {
      "cell_type": "markdown",
      "source": [
        "##3.Copy(): Hace una copia del diccionario"
      ],
      "metadata": {
        "id": "oyvtYgeCi_I_"
      }
    },
    {
      "cell_type": "code",
      "source": [
        "justicia_joven={}\n",
        "justicia_joven=liga_justicia.copy()\n",
        "justicia_joven"
      ],
      "metadata": {
        "colab": {
          "base_uri": "https://localhost:8080/"
        },
        "id": "UkfrDetkhtb3",
        "outputId": "e5784e8f-a279-4df8-cd87-29f529283e85"
      },
      "execution_count": null,
      "outputs": [
        {
          "output_type": "execute_result",
          "data": {
            "text/plain": [
              "{'identidades': ['Bruce Wayne', 'Clark Kent', 'Diana Prince']}"
            ]
          },
          "metadata": {},
          "execution_count": 42
        }
      ]
    },
    {
      "cell_type": "code",
      "source": [
        "justicie_gank=liga_justicia\n",
        "justicie_gank"
      ],
      "metadata": {
        "colab": {
          "base_uri": "https://localhost:8080/"
        },
        "id": "T0iH0hwkizVn",
        "outputId": "b787a301-80a3-4efe-d5a9-0c24da48e02d"
      },
      "execution_count": null,
      "outputs": [
        {
          "output_type": "execute_result",
          "data": {
            "text/plain": [
              "{'identidades': ['Bruce Wayne', 'Clark Kent', 'Diana Prince']}"
            ]
          },
          "metadata": {},
          "execution_count": 43
        }
      ]
    },
    {
      "cell_type": "markdown",
      "source": [
        "##4.Dict.fromkeys():Crea un nuevo diccionario"
      ],
      "metadata": {
        "id": "K5T9N-Hejfrp"
      }
    },
    {
      "cell_type": "code",
      "source": [
        "liga_justicia={\"superhéroes\": [\"Batman\",\"Superman\",\"WonderWoman\"],\"identidades\":[\"Bruce Wayne\",\"Clark Kent\",\"Diana Prince\"]}\n",
        "justicia = dict.fromkeys(liga_justicia,0)\n",
        "print(justicia)"
      ],
      "metadata": {
        "colab": {
          "base_uri": "https://localhost:8080/"
        },
        "id": "ouq_pbWbjiMQ",
        "outputId": "9bed40cd-fcc1-4c6e-a8fd-385d2cec8510"
      },
      "execution_count": null,
      "outputs": [
        {
          "output_type": "stream",
          "name": "stdout",
          "text": [
            "{'superhéroes': 0, 'identidades': 0}\n"
          ]
        }
      ]
    },
    {
      "cell_type": "markdown",
      "source": [
        "#5.Values(): Son los datos asociados a cada clave dentro de la estructura del diccionario"
      ],
      "metadata": {
        "id": "xhXPUYZfspWq"
      }
    },
    {
      "cell_type": "code",
      "source": [
        "liga_justicia.values()"
      ],
      "metadata": {
        "colab": {
          "base_uri": "https://localhost:8080/"
        },
        "id": "lJyokXJesrVJ",
        "outputId": "e3fc32ef-2004-4bef-ec80-cb5c63fca993"
      },
      "execution_count": null,
      "outputs": [
        {
          "output_type": "execute_result",
          "data": {
            "text/plain": [
              "dict_values([['Batman', 'Superman', 'WonderWoman'], ['Bruce Wayne', 'Clark Kent', 'Diana Prince']])"
            ]
          },
          "metadata": {},
          "execution_count": 64
        }
      ]
    },
    {
      "cell_type": "code",
      "source": [
        "liga_justicia"
      ],
      "metadata": {
        "colab": {
          "base_uri": "https://localhost:8080/"
        },
        "id": "Dbn1Mam3sxJo",
        "outputId": "5782b67d-be9c-4ced-f845-f8c4e40f00f9"
      },
      "execution_count": null,
      "outputs": [
        {
          "output_type": "execute_result",
          "data": {
            "text/plain": [
              "{'superhéroes': ['Batman', 'Superman', 'WonderWoman'],\n",
              " 'identidades': ['Bruce Wayne', 'Clark Kent', 'Diana Prince']}"
            ]
          },
          "metadata": {},
          "execution_count": 65
        }
      ]
    },
    {
      "cell_type": "markdown",
      "source": [
        "#6.Update(): Añadir o modificar pares clave-valor en un diccionario existente"
      ],
      "metadata": {
        "id": "0aTdyVlLu33W"
      }
    },
    {
      "cell_type": "code",
      "source": [
        "liga_justicia.update(liga_justicia)"
      ],
      "metadata": {
        "id": "TgY-Eaklu64W"
      },
      "execution_count": null,
      "outputs": []
    },
    {
      "cell_type": "code",
      "source": [
        "liga_justicia"
      ],
      "metadata": {
        "id": "r9fdrMG0u_J4",
        "outputId": "cb7e351b-1474-4b6a-c551-4863b92a9172",
        "colab": {
          "base_uri": "https://localhost:8080/"
        }
      },
      "execution_count": null,
      "outputs": [
        {
          "output_type": "execute_result",
          "data": {
            "text/plain": [
              "{'superhéroes': ['Batman', 'Superman', 'WonderWoman'],\n",
              " 'identidades': ['Bruce Wayne', 'Clark Kent', 'Diana Prince']}"
            ]
          },
          "metadata": {},
          "execution_count": 67
        }
      ]
    },
    {
      "cell_type": "markdown",
      "source": [
        "##TALLER DICCIONARIOS"
      ],
      "metadata": {
        "id": "4iPzOI8qI6B6"
      }
    },
    {
      "cell_type": "code",
      "execution_count": null,
      "metadata": {
        "id": "B1KkZ0Jv45ES"
      },
      "outputs": [],
      "source": [
        "#1.Crea una función que reciba una lista de nombres y retorne cuántos nombres comienzan con vocal.\n",
        "def contar_vocales(nombres):\n",
        " Vocales=\"a,e,i,o,u,A,E,I,O,U\"\n",
        " return sum(1 for i in nombres if i[0] in Vocales)"
      ]
    },
    {
      "cell_type": "code",
      "source": [
        " nombres=[\"Ana\",\"Pedro\",\"Oscar\", \"Alisson\",\"Camila\"]\n",
        " contar_vocales(nombres)"
      ],
      "metadata": {
        "colab": {
          "base_uri": "https://localhost:8080/"
        },
        "id": "PBy4aeAz7Kbd",
        "outputId": "cdfd827b-3072-4cd9-b145-e8696ead1ba4"
      },
      "execution_count": null,
      "outputs": [
        {
          "output_type": "execute_result",
          "data": {
            "text/plain": [
              "3"
            ]
          },
          "metadata": {},
          "execution_count": 9
        }
      ]
    },
    {
      "cell_type": "code",
      "source": [
        "#2.Crea una función que reciba una lista y retorne otra lista sin elementos repetidos.\n",
        "def eliminar_repetidos(lista):\n",
        " nueva_lista=[]\n",
        " for i in lista:\n",
        "  if i not in nueva_lista:\n",
        "   nueva_lista.append(i)\n",
        " return nueva_lista"
      ],
      "metadata": {
        "id": "OkCu9fW56-Kl"
      },
      "execution_count": null,
      "outputs": []
    },
    {
      "cell_type": "code",
      "source": [
        "lista=[1,2,3,4,5,6,7,8,9,1,5,7,3]\n",
        "eliminar_repetidos(lista)"
      ],
      "metadata": {
        "colab": {
          "base_uri": "https://localhost:8080/"
        },
        "id": "h6cRgHKQ6utd",
        "outputId": "2e182b0d-d6d7-4540-d7af-f501de411e71"
      },
      "execution_count": null,
      "outputs": [
        {
          "output_type": "execute_result",
          "data": {
            "text/plain": [
              "[1, 2, 3, 4, 5, 6, 7, 8, 9]"
            ]
          },
          "metadata": {},
          "execution_count": 11
        }
      ]
    },
    {
      "cell_type": "code",
      "source": [
        "#3.Crea una función que reciba una lista de números y retorne solo los que son primos.\n",
        "def es_primo(numero):\n",
        " if numero<2:\n",
        "  return False\n",
        " for i in range(2,numero):\n",
        "  if numero%i==0:\n",
        "   return False\n",
        " return True"
      ],
      "metadata": {
        "id": "5EpTYKw59Ks0"
      },
      "execution_count": null,
      "outputs": []
    },
    {
      "cell_type": "code",
      "source": [
        "def filtra_lista(lista):\n",
        "  return [i for i in lista if es_primo(i)]"
      ],
      "metadata": {
        "id": "2q-AQFWR9mwL"
      },
      "execution_count": null,
      "outputs": []
    },
    {
      "cell_type": "code",
      "source": [
        "numeros=[1,2,3,4,5,6,7,8,9,10,11,12,13,14,15]\n",
        "filtra_lista(numeros)"
      ],
      "metadata": {
        "colab": {
          "base_uri": "https://localhost:8080/"
        },
        "id": "WTadkslV9t1T",
        "outputId": "d7247fea-eaf2-454c-e8fa-1be3dd3e23e7"
      },
      "execution_count": null,
      "outputs": [
        {
          "output_type": "execute_result",
          "data": {
            "text/plain": [
              "[2, 3, 5, 7, 11, 13]"
            ]
          },
          "metadata": {},
          "execution_count": 14
        }
      ]
    },
    {
      "cell_type": "code",
      "source": [
        "#4.Crea una función que reciba un diccionario con claves \"nombre\", \"edad\", y retorne un mensaje con esos datos.\n",
        "def mostrar_datos(persona):\n",
        "  nombre=persona[\"nombre\"]\n",
        "  edad=persona[\"edad\"]\n",
        "  return f\"El nombre es {nombre} y la edad es {edad}\""
      ],
      "metadata": {
        "id": "k_XAFLHg9xO7"
      },
      "execution_count": null,
      "outputs": []
    },
    {
      "cell_type": "code",
      "source": [
        "datos={\"nombre\": \"Ana\", \"Edad\": 25}\n",
        "mostrar_datos(datos)"
      ],
      "metadata": {
        "colab": {
          "base_uri": "https://localhost:8080/",
          "height": 263
        },
        "id": "65613t_e-jwt",
        "outputId": "32966339-e973-4f05-9bfe-e8cf68714058"
      },
      "execution_count": null,
      "outputs": [
        {
          "output_type": "error",
          "ename": "KeyError",
          "evalue": "'edad'",
          "traceback": [
            "\u001b[0;31m---------------------------------------------------------------------------\u001b[0m",
            "\u001b[0;31mKeyError\u001b[0m                                  Traceback (most recent call last)",
            "\u001b[0;32m/tmp/ipython-input-2451211838.py\u001b[0m in \u001b[0;36m<cell line: 0>\u001b[0;34m()\u001b[0m\n\u001b[1;32m      1\u001b[0m \u001b[0mdatos\u001b[0m\u001b[0;34m=\u001b[0m\u001b[0;34m{\u001b[0m\u001b[0;34m\"nombre\"\u001b[0m\u001b[0;34m:\u001b[0m \u001b[0;34m\"Ana\"\u001b[0m\u001b[0;34m,\u001b[0m \u001b[0;34m\"Edad\"\u001b[0m\u001b[0;34m:\u001b[0m \u001b[0;36m25\u001b[0m\u001b[0;34m}\u001b[0m\u001b[0;34m\u001b[0m\u001b[0;34m\u001b[0m\u001b[0m\n\u001b[0;32m----> 2\u001b[0;31m \u001b[0mmostrar_datos\u001b[0m\u001b[0;34m(\u001b[0m\u001b[0mdatos\u001b[0m\u001b[0;34m)\u001b[0m\u001b[0;34m\u001b[0m\u001b[0;34m\u001b[0m\u001b[0m\n\u001b[0m",
            "\u001b[0;32m/tmp/ipython-input-1369952976.py\u001b[0m in \u001b[0;36mmostrar_datos\u001b[0;34m(persona)\u001b[0m\n\u001b[1;32m      2\u001b[0m \u001b[0;32mdef\u001b[0m \u001b[0mmostrar_datos\u001b[0m\u001b[0;34m(\u001b[0m\u001b[0mpersona\u001b[0m\u001b[0;34m)\u001b[0m\u001b[0;34m:\u001b[0m\u001b[0;34m\u001b[0m\u001b[0;34m\u001b[0m\u001b[0m\n\u001b[1;32m      3\u001b[0m   \u001b[0mnombre\u001b[0m\u001b[0;34m=\u001b[0m\u001b[0mpersona\u001b[0m\u001b[0;34m[\u001b[0m\u001b[0;34m\"nombre\"\u001b[0m\u001b[0;34m]\u001b[0m\u001b[0;34m\u001b[0m\u001b[0;34m\u001b[0m\u001b[0m\n\u001b[0;32m----> 4\u001b[0;31m   \u001b[0medad\u001b[0m\u001b[0;34m=\u001b[0m\u001b[0mpersona\u001b[0m\u001b[0;34m[\u001b[0m\u001b[0;34m\"edad\"\u001b[0m\u001b[0;34m]\u001b[0m\u001b[0;34m\u001b[0m\u001b[0;34m\u001b[0m\u001b[0m\n\u001b[0m\u001b[1;32m      5\u001b[0m   \u001b[0;32mreturn\u001b[0m \u001b[0;34mf\"El nombre es {nombre} y la edad es {edad}\"\u001b[0m\u001b[0;34m\u001b[0m\u001b[0;34m\u001b[0m\u001b[0m\n",
            "\u001b[0;31mKeyError\u001b[0m: 'edad'"
          ]
        }
      ]
    },
    {
      "cell_type": "code",
      "source": [
        "#5.Crea una función que reciba un diccionario de productos (clave: nombre, valor: precio) y retorne el total.\n",
        "def total_productos(productos):\n",
        "    total = sum([precio for precio in productos.values()])\n",
        "    resultado = {\n",
        "        \"productos\": productos,\n",
        "        \"total\": total\n",
        "    }\n",
        "    return resultado\n",
        "\n",
        "print(total_productos({\"pan\": 1500, \"leche\": 3000, \"huevos\": 5000}))\n",
        "print(total_productos({\"arroz\": 2500, \"pollo\": 8000}))"
      ],
      "metadata": {
        "colab": {
          "base_uri": "https://localhost:8080/"
        },
        "id": "mZti5x4UGcEU",
        "outputId": "13b37f02-c070-4e3e-a078-4e7c227c22f0"
      },
      "execution_count": null,
      "outputs": [
        {
          "output_type": "stream",
          "name": "stdout",
          "text": [
            "{'productos': {'pan': 1500, 'leche': 3000, 'huevos': 5000}, 'total': 9500}\n",
            "{'productos': {'arroz': 2500, 'pollo': 8000}, 'total': 10500}\n"
          ]
        }
      ]
    },
    {
      "cell_type": "code",
      "source": [
        "#6.Crea una función que reciba un diccionario de estudiantes (clave: nombre, valor: nota) y retorne el promedio.\n",
        "def promedio_estudiantes(estudiantes):\n",
        "    promedio = sum([nota for nota in estudiantes.values()]) / len(estudiantes)\n",
        "    resultado = {\n",
        "        \"estudiantes\": estudiantes,\n",
        "        \"promedio\": promedio\n",
        "    }\n",
        "    return resultado\n",
        "\n",
        "print(promedio_estudiantes({\"Ana\": 4.5, \"Luis\": 3.8, \"Marta\": 5.0}))\n",
        "print(promedio_estudiantes({\"Pedro\": 2.5, \"Juan\": 3.0, \"Sofía\": 4.0}))"
      ],
      "metadata": {
        "colab": {
          "base_uri": "https://localhost:8080/"
        },
        "id": "DTtCqPIiGyIM",
        "outputId": "a321d8db-b9ab-4911-acd4-54d5efc4d495"
      },
      "execution_count": null,
      "outputs": [
        {
          "output_type": "stream",
          "name": "stdout",
          "text": [
            "{'estudiantes': {'Ana': 4.5, 'Luis': 3.8, 'Marta': 5.0}, 'promedio': 4.433333333333334}\n",
            "{'estudiantes': {'Pedro': 2.5, 'Juan': 3.0, 'Sofía': 4.0}, 'promedio': 3.1666666666666665}\n"
          ]
        }
      ]
    },
    {
      "cell_type": "code",
      "source": [
        "#7.Crea una función que reciba un diccionario y un nombre, y retorne la nota si existe o \"no encontrado\".\n",
        "def buscar_nota(estudiantes, nombre):\n",
        "    resultado = {\n",
        "        \"nombre\": nombre,\n",
        "        \"nota\": estudiantes.get(nombre, \"no encontrado\")\n",
        "    }\n",
        "    return resultado\n",
        "\n",
        "print(buscar_nota({\"Ana\": 4.5, \"Luis\": 3.8, \"Marta\": 5.0}, \"Luis\"))\n",
        "print(buscar_nota({\"Ana\": 4.5, \"Luis\": 3.8, \"Marta\": 5.0}, \"Pedro\"))"
      ],
      "metadata": {
        "colab": {
          "base_uri": "https://localhost:8080/"
        },
        "id": "GZiP1zmcHCZM",
        "outputId": "e6924bfd-db36-4538-f1c5-21d75e5c14f9"
      },
      "execution_count": null,
      "outputs": [
        {
          "output_type": "stream",
          "name": "stdout",
          "text": [
            "{'nombre': 'Luis', 'nota': 3.8}\n",
            "{'nombre': 'Pedro', 'nota': 'no encontrado'}\n"
          ]
        }
      ]
    },
    {
      "cell_type": "code",
      "source": [
        "#8.Crea una función que reciba un diccionario y retorne el nombre del estudiante con mayor nota.\n",
        "def mejor_estudiante(estudiantes):\n",
        "    nombre = max(estudiantes, key=lambda x: estudiantes[x])\n",
        "    resultado = {\n",
        "        \"estudiantes\": estudiantes,\n",
        "        \"mejor_estudiante\": nombre,\n",
        "        \"nota\": estudiantes[nombre]\n",
        "    }\n",
        "    return resultado\n",
        "\n",
        "print(mejor_estudiante({\"Ana\": 4.5, \"Luis\": 3.8, \"Marta\": 5.0}))\n",
        "print(mejor_estudiante({\"Pedro\": 2.5, \"Juan\": 3.0, \"Sofía\": 4.0}))\n"
      ],
      "metadata": {
        "colab": {
          "base_uri": "https://localhost:8080/"
        },
        "id": "WeHcvUNVHQTL",
        "outputId": "cc12dfd5-3e4f-4d13-b39c-e0d80fc73420"
      },
      "execution_count": null,
      "outputs": [
        {
          "output_type": "stream",
          "name": "stdout",
          "text": [
            "{'estudiantes': {'Ana': 4.5, 'Luis': 3.8, 'Marta': 5.0}, 'mejor_estudiante': 'Marta', 'nota': 5.0}\n",
            "{'estudiantes': {'Pedro': 2.5, 'Juan': 3.0, 'Sofía': 4.0}, 'mejor_estudiante': 'Sofía', 'nota': 4.0}\n"
          ]
        }
      ]
    },
    {
      "cell_type": "code",
      "source": [
        "#9.Crea una función que reciba un diccionario de productos y retorne los productos con precios mayores a un valor dado.\n"
      ],
      "metadata": {
        "id": "dgu9EADMHY_b"
      },
      "execution_count": null,
      "outputs": []
    }
  ]
}