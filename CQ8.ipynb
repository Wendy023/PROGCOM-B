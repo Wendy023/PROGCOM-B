{
  "nbformat": 4,
  "nbformat_minor": 0,
  "metadata": {
    "colab": {
      "provenance": [],
      "authorship_tag": "ABX9TyPCip+W4v/+DJtr7oSk7hGg",
      "include_colab_link": true
    },
    "kernelspec": {
      "name": "python3",
      "display_name": "Python 3"
    },
    "language_info": {
      "name": "python"
    }
  },
  "cells": [
    {
      "cell_type": "markdown",
      "metadata": {
        "id": "view-in-github",
        "colab_type": "text"
      },
      "source": [
        "<a href=\"https://colab.research.google.com/github/Wendy023/PROGCOM-B/blob/main/CQ8.ipynb\" target=\"_parent\"><img src=\"https://colab.research.google.com/assets/colab-badge.svg\" alt=\"Open In Colab\"/></a>"
      ]
    },
    {
      "cell_type": "markdown",
      "source": [
        "#Repositorio de errores simples de Python"
      ],
      "metadata": {
        "id": "TMvhj9J9Nn4Y"
      }
    },
    {
      "cell_type": "markdown",
      "source": [
        "#1. Error de sintaxis (SyntaxError)\n",
        "Cómo ocurre: Cuando escribimos mal un comando o falta un carácter."
      ],
      "metadata": {
        "id": "sMDpTHkSN4us"
      }
    },
    {
      "cell_type": "code",
      "execution_count": 1,
      "metadata": {
        "colab": {
          "base_uri": "https://localhost:8080/",
          "height": 106
        },
        "id": "Of60JwasNmbZ",
        "outputId": "8bbcacd6-19be-42f1-caf6-328cbc3b5db6"
      },
      "outputs": [
        {
          "output_type": "error",
          "ename": "SyntaxError",
          "evalue": "'(' was never closed (ipython-input-2998525117.py, line 2)",
          "traceback": [
            "\u001b[0;36m  File \u001b[0;32m\"/tmp/ipython-input-2998525117.py\"\u001b[0;36m, line \u001b[0;32m2\u001b[0m\n\u001b[0;31m    print(\"Hola mundo\"\u001b[0m\n\u001b[0m         ^\u001b[0m\n\u001b[0;31mSyntaxError\u001b[0m\u001b[0;31m:\u001b[0m '(' was never closed\n"
          ]
        }
      ],
      "source": [
        " # Ejemplo con error\n",
        " print(\"Hola mundo\"\n",
        " # falta cerrar el paréntesis\n",
        " # Corrección\n",
        " print(\"Hola mundo\")"
      ]
    },
    {
      "cell_type": "markdown",
      "source": [
        "#2. IndentationError\n",
        "Cómo ocurre: Cuando olvidamos identar el código en un bloque."
      ],
      "metadata": {
        "id": "hnlsYZi6N--O"
      }
    },
    {
      "cell_type": "code",
      "source": [
        "# Ejemplo con error\n",
        " if True:\n",
        " print(\"Hola\")\n",
        " #falta indentación\n",
        " # Corrección\n",
        " if True:\n",
        " print(\"Hola\")\n",
        " #con indentación\n",
        ""
      ],
      "metadata": {
        "colab": {
          "base_uri": "https://localhost:8080/",
          "height": 106
        },
        "id": "o3WA1EMVN5jM",
        "outputId": "7d659ce5-ae5e-49c1-c0bf-844ff0b8068a"
      },
      "execution_count": 2,
      "outputs": [
        {
          "output_type": "error",
          "ename": "IndentationError",
          "evalue": "unexpected indent (ipython-input-3087759345.py, line 2)",
          "traceback": [
            "\u001b[0;36m  File \u001b[0;32m\"/tmp/ipython-input-3087759345.py\"\u001b[0;36m, line \u001b[0;32m2\u001b[0m\n\u001b[0;31m    if True:\u001b[0m\n\u001b[0m    ^\u001b[0m\n\u001b[0;31mIndentationError\u001b[0m\u001b[0;31m:\u001b[0m unexpected indent\n"
          ]
        }
      ]
    },
    {
      "cell_type": "markdown",
      "source": [
        "#3. NameError\n",
        "Cómo ocurre: Cuando usamos una variable que no está de&nida."
      ],
      "metadata": {
        "id": "AZIky27mOL4e"
      }
    },
    {
      "cell_type": "code",
      "source": [
        "# Ejemplo con error\n",
        " print(x)\n",
        " # NameError: name 'x' is not defined\n",
        " # Corrección\n",
        " x = 5\n",
        " print(x)"
      ],
      "metadata": {
        "colab": {
          "base_uri": "https://localhost:8080/",
          "height": 106
        },
        "id": "u8UgCyVkOOHe",
        "outputId": "4afca919-e446-4d27-d8de-c7afe2e2cf69"
      },
      "execution_count": 3,
      "outputs": [
        {
          "output_type": "error",
          "ename": "IndentationError",
          "evalue": "unexpected indent (ipython-input-1568981747.py, line 2)",
          "traceback": [
            "\u001b[0;36m  File \u001b[0;32m\"/tmp/ipython-input-1568981747.py\"\u001b[0;36m, line \u001b[0;32m2\u001b[0m\n\u001b[0;31m    print(x)\u001b[0m\n\u001b[0m    ^\u001b[0m\n\u001b[0;31mIndentationError\u001b[0m\u001b[0;31m:\u001b[0m unexpected indent\n"
          ]
        }
      ]
    },
    {
      "cell_type": "markdown",
      "source": [
        "#4. TypeError sencillo\n",
        "Cómo ocurre: Cuando intentamos sumar un número con un texto."
      ],
      "metadata": {
        "id": "SJQDmU4yOQ1J"
      }
    },
    {
      "cell_type": "code",
      "source": [
        "# Ejemplo con error\n",
        " edad = 18\n",
        " print(\"Tengo \" + edad + \" años\")\n",
        " # TypeError\n",
        " # Corrección: Convertir a string:\n",
        " print(\"Tengo \" + str(edad) + \" años\")"
      ],
      "metadata": {
        "colab": {
          "base_uri": "https://localhost:8080/",
          "height": 106
        },
        "id": "srVqREWdOVaz",
        "outputId": "0304b406-6564-4ff4-abbe-b04edcd2fb88"
      },
      "execution_count": 4,
      "outputs": [
        {
          "output_type": "error",
          "ename": "IndentationError",
          "evalue": "unexpected indent (ipython-input-1303513419.py, line 2)",
          "traceback": [
            "\u001b[0;36m  File \u001b[0;32m\"/tmp/ipython-input-1303513419.py\"\u001b[0;36m, line \u001b[0;32m2\u001b[0m\n\u001b[0;31m    edad = 18\u001b[0m\n\u001b[0m    ^\u001b[0m\n\u001b[0;31mIndentationError\u001b[0m\u001b[0;31m:\u001b[0m unexpected indent\n"
          ]
        }
      ]
    },
    {
      "cell_type": "markdown",
      "source": [
        "#5. ZeroDivisionError\n",
        "Cómo ocurre: Cuando intentamos dividir entre cero."
      ],
      "metadata": {
        "id": "1DxBTpGsOf0J"
      }
    },
    {
      "cell_type": "code",
      "source": [
        "# Ejemplo con error\n",
        " print(10 / 0)\n",
        " # ZeroDivisionError\n",
        " # Corrección\n",
        " print(\"No se puede dividir entre cero\")"
      ],
      "metadata": {
        "colab": {
          "base_uri": "https://localhost:8080/",
          "height": 106
        },
        "id": "dNtkFLWLOj34",
        "outputId": "8a8c13d4-dfcf-43b3-8180-225de63d4681"
      },
      "execution_count": 5,
      "outputs": [
        {
          "output_type": "error",
          "ename": "IndentationError",
          "evalue": "unexpected indent (ipython-input-3193251443.py, line 2)",
          "traceback": [
            "\u001b[0;36m  File \u001b[0;32m\"/tmp/ipython-input-3193251443.py\"\u001b[0;36m, line \u001b[0;32m2\u001b[0m\n\u001b[0;31m    print(10 / 0)\u001b[0m\n\u001b[0m    ^\u001b[0m\n\u001b[0;31mIndentationError\u001b[0m\u001b[0;31m:\u001b[0m unexpected indent\n"
          ]
        }
      ]
    },
    {
      "cell_type": "markdown",
      "source": [
        "#6. IndexError\n",
        "Cómo ocurre: Este error aparece cuando intentamos acceder a una posición de una lista (o secuencia) que no existe."
      ],
      "metadata": {
        "id": "IDyNNCwBOniL"
      }
    },
    {
      "cell_type": "code",
      "source": [
        "# Ejemplo con error\n",
        " frutas = [\"manzana\", \"pera\", \"uva\"]\n",
        " print(frutas[5])\n",
        " # IndexError\n",
        " #corrección\n",
        " frutas = [\"manzana\", \"pera\", \"uva\"]\n",
        " # Forma 1: usar un índice válido\n",
        " print(frutas[2])\n",
        " # Imprime: uva\n",
        " # Forma 2: comprobar tamaño antes\n",
        " indice = 5\n",
        " if indice < len(frutas):\n",
        " print(frutas[indice])\n",
        " else:\n",
        " print(\"Ese índice no existe en la lista\")"
      ],
      "metadata": {
        "colab": {
          "base_uri": "https://localhost:8080/",
          "height": 106
        },
        "id": "tKetPRHWOsLM",
        "outputId": "bcd6ec65-5483-4019-cdff-eea1009487a0"
      },
      "execution_count": 6,
      "outputs": [
        {
          "output_type": "error",
          "ename": "IndentationError",
          "evalue": "unexpected indent (ipython-input-3894395998.py, line 2)",
          "traceback": [
            "\u001b[0;36m  File \u001b[0;32m\"/tmp/ipython-input-3894395998.py\"\u001b[0;36m, line \u001b[0;32m2\u001b[0m\n\u001b[0;31m    frutas = [\"manzana\", \"pera\", \"uva\"]\u001b[0m\n\u001b[0m    ^\u001b[0m\n\u001b[0;31mIndentationError\u001b[0m\u001b[0;31m:\u001b[0m unexpected indent\n"
          ]
        }
      ]
    },
    {
      "cell_type": "markdown",
      "source": [
        "#7. KeyError\n",
        "Cómo ocurre: Este error sucede cuando intentamos acceder a una clave que no existe dentro de un diccionario en Python."
      ],
      "metadata": {
        "id": "7SMhjAOIOxrX"
      }
    },
    {
      "cell_type": "code",
      "source": [
        "# Ejemplo con error\n",
        "paises = {\"Colombia\": \"Bogotá\", \"Perú\": \"Lima\"}\n",
        "print(paises[\"Chile\"])\n",
        "# KeyError: 'Chile'\n",
        "\n",
        "# Corrección: usar get() o validar la clave\n",
        "print(paises.get(\"Chile\", \"No existe este país en el diccionario\"))"
      ],
      "metadata": {
        "colab": {
          "base_uri": "https://localhost:8080/",
          "height": 211
        },
        "id": "ADdnDWF8O1te",
        "outputId": "851052d4-a2db-4c2b-db06-dc22dc30b8eb"
      },
      "execution_count": 7,
      "outputs": [
        {
          "output_type": "error",
          "ename": "KeyError",
          "evalue": "'Chile'",
          "traceback": [
            "\u001b[0;31m---------------------------------------------------------------------------\u001b[0m",
            "\u001b[0;31mKeyError\u001b[0m                                  Traceback (most recent call last)",
            "\u001b[0;32m/tmp/ipython-input-206440146.py\u001b[0m in \u001b[0;36m<cell line: 0>\u001b[0;34m()\u001b[0m\n\u001b[1;32m      1\u001b[0m \u001b[0;31m# Ejemplo con error\u001b[0m\u001b[0;34m\u001b[0m\u001b[0;34m\u001b[0m\u001b[0m\n\u001b[1;32m      2\u001b[0m \u001b[0mpaises\u001b[0m \u001b[0;34m=\u001b[0m \u001b[0;34m{\u001b[0m\u001b[0;34m\"Colombia\"\u001b[0m\u001b[0;34m:\u001b[0m \u001b[0;34m\"Bogotá\"\u001b[0m\u001b[0;34m,\u001b[0m \u001b[0;34m\"Perú\"\u001b[0m\u001b[0;34m:\u001b[0m \u001b[0;34m\"Lima\"\u001b[0m\u001b[0;34m}\u001b[0m\u001b[0;34m\u001b[0m\u001b[0;34m\u001b[0m\u001b[0m\n\u001b[0;32m----> 3\u001b[0;31m \u001b[0mprint\u001b[0m\u001b[0;34m(\u001b[0m\u001b[0mpaises\u001b[0m\u001b[0;34m[\u001b[0m\u001b[0;34m\"Chile\"\u001b[0m\u001b[0;34m]\u001b[0m\u001b[0;34m)\u001b[0m\u001b[0;34m\u001b[0m\u001b[0;34m\u001b[0m\u001b[0m\n\u001b[0m\u001b[1;32m      4\u001b[0m \u001b[0;31m# KeyError: 'Chile'\u001b[0m\u001b[0;34m\u001b[0m\u001b[0;34m\u001b[0m\u001b[0m\n\u001b[1;32m      5\u001b[0m \u001b[0;34m\u001b[0m\u001b[0m\n",
            "\u001b[0;31mKeyError\u001b[0m: 'Chile'"
          ]
        }
      ]
    },
    {
      "cell_type": "markdown",
      "source": [
        "#8. AttributeError\n",
        "Cómo ocurre: Sucede cuando intentas usar un método/atributo que no existe en el objeto."
      ],
      "metadata": {
        "id": "X1yTb6aTO8NY"
      }
    },
    {
      "cell_type": "code",
      "source": [
        "texto = \"Hola mundo\"\n",
        "print(texto.push(\"!\"))   # .push no existe para strings"
      ],
      "metadata": {
        "colab": {
          "base_uri": "https://localhost:8080/",
          "height": 159
        },
        "id": "6uuMKNkbO9oa",
        "outputId": "fa459681-692c-4945-f85f-5fcc3b0120db"
      },
      "execution_count": 8,
      "outputs": [
        {
          "output_type": "error",
          "ename": "AttributeError",
          "evalue": "'str' object has no attribute 'push'",
          "traceback": [
            "\u001b[0;31m---------------------------------------------------------------------------\u001b[0m",
            "\u001b[0;31mAttributeError\u001b[0m                            Traceback (most recent call last)",
            "\u001b[0;32m/tmp/ipython-input-810894214.py\u001b[0m in \u001b[0;36m<cell line: 0>\u001b[0;34m()\u001b[0m\n\u001b[1;32m      1\u001b[0m \u001b[0mtexto\u001b[0m \u001b[0;34m=\u001b[0m \u001b[0;34m\"Hola mundo\"\u001b[0m\u001b[0;34m\u001b[0m\u001b[0;34m\u001b[0m\u001b[0m\n\u001b[0;32m----> 2\u001b[0;31m \u001b[0mprint\u001b[0m\u001b[0;34m(\u001b[0m\u001b[0mtexto\u001b[0m\u001b[0;34m.\u001b[0m\u001b[0mpush\u001b[0m\u001b[0;34m(\u001b[0m\u001b[0;34m\"!\"\u001b[0m\u001b[0;34m)\u001b[0m\u001b[0;34m)\u001b[0m   \u001b[0;31m# .push no existe para strings\u001b[0m\u001b[0;34m\u001b[0m\u001b[0;34m\u001b[0m\u001b[0m\n\u001b[0m",
            "\u001b[0;31mAttributeError\u001b[0m: 'str' object has no attribute 'push'"
          ]
        }
      ]
    },
    {
      "cell_type": "markdown",
      "source": [
        "Solución:"
      ],
      "metadata": {
        "id": "P5cqxXmbPE2n"
      }
    },
    {
      "cell_type": "code",
      "source": [
        "texto = \"Hola mundo\"\n",
        "print(texto + \"!\")       # concatenación correcta"
      ],
      "metadata": {
        "colab": {
          "base_uri": "https://localhost:8080/"
        },
        "id": "7VBUpSXFO4_Q",
        "outputId": "4dfce55b-d584-4ff7-a84e-0ddbc3d5fd2e"
      },
      "execution_count": 9,
      "outputs": [
        {
          "output_type": "stream",
          "name": "stdout",
          "text": [
            "Hola mundo!\n"
          ]
        }
      ]
    }
  ]
}