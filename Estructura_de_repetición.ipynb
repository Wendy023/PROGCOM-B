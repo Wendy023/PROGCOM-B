{
  "nbformat": 4,
  "nbformat_minor": 0,
  "metadata": {
    "colab": {
      "provenance": []
    },
    "kernelspec": {
      "name": "python3",
      "display_name": "Python 3"
    },
    "language_info": {
      "name": "python"
    }
  },
  "cells": [
    {
      "cell_type": "markdown",
      "source": [
        "##Estructura de repetición\n",
        "Se emplean cuando quiero evaluar una condición. El resultado de la evaluación de este condición siempre se da en booleano (v o f)"
      ],
      "metadata": {
        "id": "nk9XAtXqU6QV"
      }
    },
    {
      "cell_type": "markdown",
      "source": [
        "##Estrucutura if-else\n",
        "if (condición): Dentro de aquí, si la condición dio v\n",
        "else: dentreo de aquí, si la condición = f"
      ],
      "metadata": {
        "id": "TloicpevVc5b"
      }
    },
    {
      "cell_type": "code",
      "execution_count": null,
      "metadata": {
        "id": "-GingpuJUthM"
      },
      "outputs": [],
      "source": [
        "#1 es divisible entre 4\n",
        "#2 es divisivle entre 400 pero no entre 100\n",
        "año=int(input(\"introduzca un año:\"))\n",
        "if (año%4==0 and año%100!=0);\n",
        "  print(f\"{año} es un año bisiesto\")\n",
        "else:\n",
        "  if año%400==0\n",
        "    print(f\"{año} es un año bisiesto\")\n",
        "  else:\n",
        "    print(f\"{año} No es un año bisiesto\")"
      ]
    },
    {
      "cell_type": "markdown",
      "source": [
        "#Estrutura de decicion miltiple if-elif-else\n",
        "se emplea cuando hay mas de una decicion\n",
        "\n",
        "\n",
        "\n",
        "if (cond1):\n",
        "  si cold1 es verdadero, entroaqui\n",
        "elif (cond2):\n",
        "  si cold1 es falso, Pero cond2 es verdadero, entero aqui\n",
        "elif (cond3):\n",
        "  si cold1 y conl2 son falsos, PERO cond3 es verdadero, dentro aqui\n",
        "else: si cond1 y cond2 y cond3 y cond n son falsa, entrara aqui\n"
      ],
      "metadata": {
        "id": "3RDyE715WUIH"
      }
    },
    {
      "cell_type": "code",
      "source": [
        "if (año%4==0 and año%100!=0): print(f\"{año} es un año bisiesto\")\n",
        "elif año%400==9: print(f\"{año} es un año bisiesto\")\n",
        "else:print(f\"{año} NO es un año bisiesto\")"
      ],
      "metadata": {
        "id": "JFOAuJ_jWVQc"
      },
      "execution_count": null,
      "outputs": []
    },
    {
      "cell_type": "code",
      "source": [
        "#1 es divisible entre 4\n",
        "#2 es divisivle entre 400 pero no entre 100\n",
        "año=int(input(\"introduzca un año:\"))\n",
        "if (año%4==0 and año%100!=0):\n",
        "  print(f\"{año} es un año bisiesto\")\n",
        "else:\n",
        "  if año%400==0:\n",
        "    print(f\"{año} es un año bisiesto\")\n",
        "  else:\n",
        "    print(f\"{año} No es un año bisiesto\")"
      ],
      "metadata": {
        "id": "agwobeLfWoel"
      },
      "execution_count": null,
      "outputs": []
    },
    {
      "cell_type": "code",
      "source": [
        "if (año%4==0 and año%100!=0):\n",
        "  print(f\"{año} es un año bisiesto\")\n",
        "elif año%400==9:\n",
        "  print(f\"{año} es un año bisiesto\")\n",
        "else:\n",
        "  print(f\"{año} NO es un año bisiesto\")"
      ],
      "metadata": {
        "id": "mkfAqQwnWx1j"
      },
      "execution_count": null,
      "outputs": []
    },
    {
      "cell_type": "markdown",
      "source": [
        "##Operacion terniario\n",
        "progamar una estructua de seleccio para porgamar solo una linea de codigo\n",
        "\n",
        "\n",
        "\n",
        "```\n",
        "(lo que se ejecuta, si la condicion es verdadera) if (codicion) else (lo que es debe ejecutar, si la condicion es falsa)"
      ],
      "metadata": {
        "id": "cNDgvb28W0FH"
      }
    },
    {
      "cell_type": "code",
      "source": [
        "##Escriba si la persona es mayor de edad\n",
        "num=int(input (\"ingrese la edad de la persona \"))\n",
        "if num > 0:\n",
        "  print(f\"segun Colombia eres mayor de edad\")\n",
        "else:\n",
        "  print(f\"segun Colombia eres menor de edad\")"
      ],
      "metadata": {
        "id": "amgo8lGgW5FV"
      },
      "execution_count": null,
      "outputs": []
    },
    {
      "cell_type": "code",
      "source": [
        "##Escriba si la persona es mayor de edad\n",
        "num=int(input (\"ingrese la edad de la persona \"))\n",
        "if num > 18:\n",
        "  print(f\"segun Colombia eres mayor de edad \")\n",
        "elif num == 18:\n",
        "  print(f\"{num} segun Colombia eres mayor de edad\")\n",
        "else :\n",
        "  print(f\"segun Colombia eres menor de edad\")"
      ],
      "metadata": {
        "id": "2byFBuRafjvm"
      },
      "execution_count": null,
      "outputs": []
    },
    {
      "cell_type": "code",
      "source": [
        "##Saber cual de los 2 es mayor\n",
        "num=int(input (\"ingrese un numero \"))\n",
        "num2=int(input (\"ingrese un numero \"))\n",
        "if num > num2:\n",
        "  print(f\"el munero mayor es\", num )\n",
        "else:\n",
        "  print(f\"el numero mayor es\", num2)"
      ],
      "metadata": {
        "id": "OymMr3RFfwf_"
      },
      "execution_count": null,
      "outputs": []
    },
    {
      "cell_type": "code",
      "source": [
        "##Saber cual de los 2 es mayor\n",
        "num=int(input (\"ingrese un numero \"))\n",
        "num2=int(input (\"ingrese un numero \"))\n",
        "if num > num2:\n",
        "  print(f\"el munero mayor es\", num )\n",
        "elif num2 > num:\n",
        "  print(f\"el munero mayor es\", num2 )\n",
        "else:\n",
        "  print(\"Ambos hermanos tienen la misma edad.\")"
      ],
      "metadata": {
        "id": "zDHmxfwXf1CS"
      },
      "execution_count": null,
      "outputs": []
    }
  ]
}