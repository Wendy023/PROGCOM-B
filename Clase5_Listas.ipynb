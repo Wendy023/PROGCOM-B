{
  "nbformat": 4,
  "nbformat_minor": 0,
  "metadata": {
    "colab": {
      "provenance": [],
      "authorship_tag": "ABX9TyOMyG+JhC7ZAvHNmYFulQwl",
      "include_colab_link": true
    },
    "kernelspec": {
      "name": "python3",
      "display_name": "Python 3"
    },
    "language_info": {
      "name": "python"
    }
  },
  "cells": [
    {
      "cell_type": "markdown",
      "metadata": {
        "id": "view-in-github",
        "colab_type": "text"
      },
      "source": [
        "<a href=\"https://colab.research.google.com/github/Wendy023/PROGCOM-B/blob/main/Clase5_Listas.ipynb\" target=\"_parent\"><img src=\"https://colab.research.google.com/assets/colab-badge.svg\" alt=\"Open In Colab\"/></a>"
      ]
    },
    {
      "cell_type": "markdown",
      "source": [
        "#Listas\n",
        "1. Un nuevo tipo de dato\n",
        "2. Es mutable\n",
        "3. Idexación: hay un orden.\n",
        "4. Hay un número finito de posiciones.\n",
        "5. Todas las listas se abren y se cierran con [] y se separan con ,.\n",
        "\n",
        "Sintaxis\n",
        "\n",
        "\n",
        "```\n",
        "nombre_lista=[] #Crear lista vacía\n",
        "flores=[\"margarita\",\"rosa\",\"tulipán\"]\n",
        "```\n",
        "Listas por extensión.\n",
        "\n"
      ],
      "metadata": {
        "id": "6gUIPCiE87N9"
      }
    },
    {
      "cell_type": "code",
      "execution_count": 2,
      "metadata": {
        "colab": {
          "base_uri": "https://localhost:8080/",
          "height": 176
        },
        "id": "3wK5C1AA8ojy",
        "outputId": "48bf452b-77dd-485c-8f48-690ef3ec2ec2"
      },
      "outputs": [
        {
          "output_type": "error",
          "ename": "IndexError",
          "evalue": "list assignment index out of range",
          "traceback": [
            "\u001b[0;31m---------------------------------------------------------------------------\u001b[0m",
            "\u001b[0;31mIndexError\u001b[0m                                Traceback (most recent call last)",
            "\u001b[0;32m/tmp/ipython-input-1113702083.py\u001b[0m in \u001b[0;36m<cell line: 0>\u001b[0;34m()\u001b[0m\n\u001b[1;32m      1\u001b[0m \u001b[0mnu\u001b[0m\u001b[0;34m=\u001b[0m\u001b[0;34m[\u001b[0m\u001b[0;34m]\u001b[0m\u001b[0;34m\u001b[0m\u001b[0;34m\u001b[0m\u001b[0m\n\u001b[1;32m      2\u001b[0m \u001b[0;32mfor\u001b[0m \u001b[0mi\u001b[0m \u001b[0;32min\u001b[0m \u001b[0mrange\u001b[0m\u001b[0;34m(\u001b[0m\u001b[0;36m1\u001b[0m\u001b[0;34m,\u001b[0m\u001b[0;36m11\u001b[0m\u001b[0;34m)\u001b[0m\u001b[0;34m:\u001b[0m\u001b[0;34m\u001b[0m\u001b[0;34m\u001b[0m\u001b[0m\n\u001b[0;32m----> 3\u001b[0;31m  \u001b[0mnu\u001b[0m\u001b[0;34m[\u001b[0m\u001b[0mi\u001b[0m\u001b[0;34m]\u001b[0m\u001b[0;34m=\u001b[0m\u001b[0mi\u001b[0m\u001b[0;34m\u001b[0m\u001b[0;34m\u001b[0m\u001b[0m\n\u001b[0m",
            "\u001b[0;31mIndexError\u001b[0m: list assignment index out of range"
          ]
        }
      ],
      "source": [
        "nu=[]\n",
        "for i in range(1,11):\n",
        " nu[i]=i"
      ]
    },
    {
      "cell_type": "code",
      "source": [
        "for i in range(10):\n",
        "  nu.append(i+1)"
      ],
      "metadata": {
        "id": "7-X1xnW8-a-b"
      },
      "execution_count": 3,
      "outputs": []
    },
    {
      "cell_type": "code",
      "source": [
        "nu"
      ],
      "metadata": {
        "colab": {
          "base_uri": "https://localhost:8080/"
        },
        "id": "JdY_E7Fj-h0q",
        "outputId": "c446f90d-f30a-47f5-c4e9-0c449eda612d"
      },
      "execution_count": 4,
      "outputs": [
        {
          "output_type": "execute_result",
          "data": {
            "text/plain": [
              "[1, 2, 3, 4, 5, 6, 7, 8, 9, 10]"
            ]
          },
          "metadata": {},
          "execution_count": 4
        }
      ]
    },
    {
      "cell_type": "code",
      "source": [
        "nombres=[]\n",
        "for i in range(3):\n",
        "  nombres.append(input(\"Ingrese un nombre: \"))"
      ],
      "metadata": {
        "colab": {
          "base_uri": "https://localhost:8080/"
        },
        "id": "qo0DiPw1_A4K",
        "outputId": "cc61df87-c00b-4333-a819-32b4d5b385b2"
      },
      "execution_count": 5,
      "outputs": [
        {
          "name": "stdout",
          "output_type": "stream",
          "text": [
            "Ingrese un nombre: Carlos\n",
            "Ingrese un nombre: Manuel\n",
            "Ingrese un nombre: Harry\n"
          ]
        }
      ]
    },
    {
      "cell_type": "code",
      "source": [
        "nombres"
      ],
      "metadata": {
        "colab": {
          "base_uri": "https://localhost:8080/"
        },
        "id": "fkVtuRBr_Q2z",
        "outputId": "09c6b7b5-3c1e-4c4c-ab79-5fb8486c6ac4"
      },
      "execution_count": 6,
      "outputs": [
        {
          "output_type": "execute_result",
          "data": {
            "text/plain": [
              "['Carlos', 'Manuel', 'Harry']"
            ]
          },
          "metadata": {},
          "execution_count": 6
        }
      ]
    },
    {
      "cell_type": "markdown",
      "source": [
        "##Indexación en listas\n",
        "\n",
        "*Recordar que python cuenta desde **0***\n",
        "```\n",
        "Lista=[Elemento1,Elemento2,Elemento3]\n",
        "Lista[0]=Elemento1\n",
        "Lista[3]=error fuera de rango\n",
        "```\n",
        "\n"
      ],
      "metadata": {
        "id": "KJx178YLD4m3"
      }
    },
    {
      "cell_type": "code",
      "source": [
        "#Indexación negativa\n",
        "Lista_num=[1,2,3,4,5,6,7,8,9,10]\n",
        "Lista_num[-2]"
      ],
      "metadata": {
        "colab": {
          "base_uri": "https://localhost:8080/"
        },
        "id": "V-KgnrksEQ7t",
        "outputId": "970c788f-46bb-4e9f-e6b2-a3333e8ee832"
      },
      "execution_count": 14,
      "outputs": [
        {
          "output_type": "execute_result",
          "data": {
            "text/plain": [
              "9"
            ]
          },
          "metadata": {},
          "execution_count": 14
        }
      ]
    },
    {
      "cell_type": "code",
      "source": [
        "Lista_num[len(Lista_num)-1]"
      ],
      "metadata": {
        "colab": {
          "base_uri": "https://localhost:8080/"
        },
        "id": "AsT6wDI8FNjs",
        "outputId": "6be9d2a4-ffbb-4960-9966-9620fc2323c5"
      },
      "execution_count": 16,
      "outputs": [
        {
          "output_type": "execute_result",
          "data": {
            "text/plain": [
              "10"
            ]
          },
          "metadata": {},
          "execution_count": 16
        }
      ]
    },
    {
      "cell_type": "code",
      "source": [
        "Lista_num[::]"
      ],
      "metadata": {
        "colab": {
          "base_uri": "https://localhost:8080/"
        },
        "id": "eHMQG7HOGAmj",
        "outputId": "419c7d0a-482f-4e48-b3e3-878cfbfd1db0"
      },
      "execution_count": 17,
      "outputs": [
        {
          "output_type": "execute_result",
          "data": {
            "text/plain": [
              "[1, 2, 3, 4, 5, 6, 7, 8, 9, 10]"
            ]
          },
          "metadata": {},
          "execution_count": 17
        }
      ]
    },
    {
      "cell_type": "code",
      "source": [
        "Lista_num[:2]"
      ],
      "metadata": {
        "colab": {
          "base_uri": "https://localhost:8080/"
        },
        "id": "On06ga5WGE12",
        "outputId": "76cb64c7-01e5-4999-c443-e1b9ac2959c8"
      },
      "execution_count": 18,
      "outputs": [
        {
          "output_type": "execute_result",
          "data": {
            "text/plain": [
              "[1, 2]"
            ]
          },
          "metadata": {},
          "execution_count": 18
        }
      ]
    },
    {
      "cell_type": "markdown",
      "source": [
        "##Listas por comprensión\n",
        "Son expresiones que generan listas\n",
        "Sintaxis:\n",
        "\n",
        "```\n",
        "nombre_lista=[expresion for variable in iteración if condición]\n",
        "```\n",
        "\n"
      ],
      "metadata": {
        "id": "s1PKrstJ_rB5"
      }
    },
    {
      "cell_type": "markdown",
      "source": [
        "###Ejemplo"
      ],
      "metadata": {
        "id": "FkYXjsbJAcqC"
      }
    },
    {
      "cell_type": "code",
      "source": [
        "#1. Convertir una lista de oraciones en una lista de palabras\n",
        "oracion=[\"Aquí va una oración\",\"Aquí va otra oración\",\"Aquí va una tercera oración\"]\n",
        "len(oracion)"
      ],
      "metadata": {
        "colab": {
          "base_uri": "https://localhost:8080/"
        },
        "id": "0ORGsqg4AUpJ",
        "outputId": "cab32930-e388-411a-95e5-8c06d09c5a5c"
      },
      "execution_count": 7,
      "outputs": [
        {
          "output_type": "execute_result",
          "data": {
            "text/plain": [
              "3"
            ]
          },
          "metadata": {},
          "execution_count": 7
        }
      ]
    },
    {
      "cell_type": "code",
      "source": [
        "palabras=[i.split() for i in oracion]\n",
        "palabras"
      ],
      "metadata": {
        "colab": {
          "base_uri": "https://localhost:8080/"
        },
        "id": "4CHCt3FjA19o",
        "outputId": "5ab1d7e1-79f5-4d09-e998-93fb718b7b5d"
      },
      "execution_count": 9,
      "outputs": [
        {
          "output_type": "execute_result",
          "data": {
            "text/plain": [
              "[['Aquí', 'va', 'una', 'oración'],\n",
              " ['Aquí', 'va', 'otra', 'oración'],\n",
              " ['Aquí', 'va', 'una', 'tercera', 'oración']]"
            ]
          },
          "metadata": {},
          "execution_count": 9
        }
      ]
    },
    {
      "cell_type": "code",
      "source": [
        "len(palabras[2])"
      ],
      "metadata": {
        "colab": {
          "base_uri": "https://localhost:8080/"
        },
        "id": "2arnTBeEB9zg",
        "outputId": "ca15adab-411b-447b-ae06-23fa07d3cd66"
      },
      "execution_count": 11,
      "outputs": [
        {
          "output_type": "execute_result",
          "data": {
            "text/plain": [
              "5"
            ]
          },
          "metadata": {},
          "execution_count": 11
        }
      ]
    },
    {
      "cell_type": "code",
      "source": [
        "#2. Obtener los pares de Lista_num\n",
        "pares=[x for x in Lista_num if x%2==0]\n",
        "pares"
      ],
      "metadata": {
        "colab": {
          "base_uri": "https://localhost:8080/"
        },
        "id": "asfhdKjLGYib",
        "outputId": "b7802b59-aba5-4eb0-ab30-a9efcc67d70e"
      },
      "execution_count": 19,
      "outputs": [
        {
          "output_type": "execute_result",
          "data": {
            "text/plain": [
              "[2, 4, 6, 8, 10]"
            ]
          },
          "metadata": {},
          "execution_count": 19
        }
      ]
    },
    {
      "cell_type": "code",
      "source": [
        "#3. Clasificar números en positivos y negativos\n",
        "numeros=[-1,2,-3,4,-5,6,-7,8,-9,10]\n",
        "clasificacion=[(\"positivo\",x) if x>=0 else (\"negativo\",x) for x in numeros]\n",
        "clasificacion"
      ],
      "metadata": {
        "colab": {
          "base_uri": "https://localhost:8080/"
        },
        "id": "6ngLqF_7HTBT",
        "outputId": "26c9d7c1-e260-4133-a65f-cdb565e6bb9f"
      },
      "execution_count": 20,
      "outputs": [
        {
          "output_type": "execute_result",
          "data": {
            "text/plain": [
              "[('negativo', -1),\n",
              " ('positivo', 2),\n",
              " ('negativo', -3),\n",
              " ('positivo', 4),\n",
              " ('negativo', -5),\n",
              " ('positivo', 6),\n",
              " ('negativo', -7),\n",
              " ('positivo', 8),\n",
              " ('negativo', -9),\n",
              " ('positivo', 10)]"
            ]
          },
          "metadata": {},
          "execution_count": 20
        }
      ]
    }
  ]
}