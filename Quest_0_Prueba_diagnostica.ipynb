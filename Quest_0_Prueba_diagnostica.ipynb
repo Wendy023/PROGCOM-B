{
  "nbformat": 4,
  "nbformat_minor": 0,
  "metadata": {
    "colab": {
      "provenance": []
    },
    "kernelspec": {
      "name": "python3",
      "display_name": "Python 3"
    },
    "language_info": {
      "name": "python"
    }
  },
  "cells": [
    {
      "cell_type": "markdown",
      "source": [
        "#Prueba diagnóstica"
      ],
      "metadata": {
        "id": "gS0ieGzSnrss"
      }
    },
    {
      "cell_type": "markdown",
      "source": [
        "##Parte 1: Estructuras de Decisión (10 ejercicios)"
      ],
      "metadata": {
        "id": "0RfAGBnfn_3s"
      }
    },
    {
      "cell_type": "markdown",
      "source": [
        "1. Escribe un programa que reciba un número e indique si es positivo."
      ],
      "metadata": {
        "id": "oCZgmvotrYpY"
      }
    },
    {
      "cell_type": "code",
      "execution_count": 15,
      "metadata": {
        "colab": {
          "base_uri": "https://localhost:8080/"
        },
        "id": "IhvpoWbPnKLV",
        "outputId": "4275bdad-d3d4-4e0a-df79-6040de9a394b"
      },
      "outputs": [
        {
          "output_type": "stream",
          "name": "stdout",
          "text": [
            "ingrese un número: -5\n",
            "el numero es negativo\n"
          ]
        }
      ],
      "source": [
        "numero=float(input(\"ingrese un número: \"))\n",
        "if numero >= 0:\n",
        "  print(\"el numero es positivo\")\n",
        "else:\n",
        "    print(\"el numero es negativo\")"
      ]
    },
    {
      "cell_type": "markdown",
      "source": [
        "2. Escribe un programa que reciba una edad y determine si la persona es mayor de edad."
      ],
      "metadata": {
        "id": "qgNABpxQrb9A"
      }
    },
    {
      "cell_type": "code",
      "source": [
        "edad = int(input(\"Ingrse su edad: \"))\n",
        "if edad >= 18:\n",
        "  print(\"Es mayor de edad\")\n",
        "else:\n",
        "  print(\"Es menor de edad\")"
      ],
      "metadata": {
        "colab": {
          "base_uri": "https://localhost:8080/"
        },
        "id": "JD8qhckGriNQ",
        "outputId": "8666b29c-abfe-4022-e8dc-a121dbbe00d7"
      },
      "execution_count": 19,
      "outputs": [
        {
          "output_type": "stream",
          "name": "stdout",
          "text": [
            "Ingrse su edad: 18\n",
            "Es mayor de edad\n"
          ]
        }
      ]
    },
    {
      "cell_type": "markdown",
      "source": [
        "3. Escribe un programa que reciba dos números e imprima el mayor."
      ],
      "metadata": {
        "id": "2_-cWIDBse1_"
      }
    },
    {
      "cell_type": "code",
      "source": [
        "a = float(input(\"Ingrese el primer numero: \"))\n",
        "b = float(input(\"Ingrese el segundo numero: \"))\n",
        "if a > b:\n",
        "  print(f\"El mayor es {a}\")\n",
        "else:\n",
        "  print(f\"El mayor es {b}\")"
      ],
      "metadata": {
        "colab": {
          "base_uri": "https://localhost:8080/"
        },
        "id": "IXjdsOiDseVB",
        "outputId": "b0671a26-5978-4e50-e2cc-ea89c92ebea8"
      },
      "execution_count": 24,
      "outputs": [
        {
          "output_type": "stream",
          "name": "stdout",
          "text": [
            "Ingrese el primer numero: 3\n",
            "Ingrese el segundo numero: 8\n",
            "El mayor es 8.0\n"
          ]
        }
      ]
    },
    {
      "cell_type": "markdown",
      "source": [
        "4.Escribe un programa que reciba una calificación (0-100) e indique si es Aprobado (&gt;=60) o\n",
        "Reprobado."
      ],
      "metadata": {
        "id": "RhAW0xNftdtG"
      }
    },
    {
      "cell_type": "code",
      "source": [
        "nota = float(input(\"Ingrese un numero del 0 al 100: \"))\n",
        "if nota >= 60:\n",
        "  print(\"Aprobado\")\n",
        "else:\n",
        "  print(\"Reprobado\")"
      ],
      "metadata": {
        "colab": {
          "base_uri": "https://localhost:8080/"
        },
        "id": "HF0ZoJMRtggI",
        "outputId": "c0a93b00-38ee-4d43-d1ef-64ec2cdfc114"
      },
      "execution_count": 29,
      "outputs": [
        {
          "output_type": "stream",
          "name": "stdout",
          "text": [
            "Ingrese un numero del 0 al 100: 80\n",
            "Aprobado\n"
          ]
        }
      ]
    },
    {
      "cell_type": "markdown",
      "source": [
        "5. Escribe un programa que determine si un número es par o impar."
      ],
      "metadata": {
        "id": "GE8mwstquGAG"
      }
    },
    {
      "cell_type": "code",
      "source": [
        "n = int(input(\"Ingrese un número: \"))\n",
        "if n % 2 == 0:\n",
        "  print(\"El numero es par\")\n",
        "else:\n",
        "  print(\"El numero es impar\")"
      ],
      "metadata": {
        "colab": {
          "base_uri": "https://localhost:8080/"
        },
        "id": "V7hCJQ-4uIo9",
        "outputId": "7fdc2e22-6bed-4ae4-cde8-9a1436a0d789"
      },
      "execution_count": 36,
      "outputs": [
        {
          "output_type": "stream",
          "name": "stdout",
          "text": [
            "Ingrese un número: 5\n",
            "El numero es impar\n"
          ]
        }
      ]
    },
    {
      "cell_type": "markdown",
      "source": [
        "6. Escribe un programa que reciba tres números e imprima el mayor de los tres."
      ],
      "metadata": {
        "id": "_AMeh_cfuyd-"
      }
    },
    {
      "cell_type": "code",
      "source": [
        "x = float(input(\"Ingrese el primer numero: \"))\n",
        "y = float(input(\"Ingrese el segundo numero: \"))\n",
        "z = float(input(\"Ingrese el tercer numero: \"))\n",
        "print(\"El numero mayor es\", max(x,y,z))"
      ],
      "metadata": {
        "colab": {
          "base_uri": "https://localhost:8080/"
        },
        "id": "bzqJGOVvu0_c",
        "outputId": "5ba02d3a-2706-4904-eeb9-f5498cadf52a"
      },
      "execution_count": 44,
      "outputs": [
        {
          "output_type": "stream",
          "name": "stdout",
          "text": [
            "Ingrese el primer numero: 9\n",
            "Ingrese el segundo numero: 2\n",
            "Ingrese el tercer numero: 0\n",
            "El numero mayor es 9.0\n"
          ]
        }
      ]
    },
    {
      "cell_type": "markdown",
      "source": [
        "7. Escribe un programa que reciba un año e indique si es bisiesto."
      ],
      "metadata": {
        "id": "CRLbWO8owohD"
      }
    },
    {
      "cell_type": "code",
      "source": [
        "año = int(input(\"Ingrese un año: \"))\n",
        "if (año % 4 == 0 and ano % 100 != 0) or (año % 400 == 0):\n",
        "  print(\"El año es bisiesto\")\n",
        "else:\n",
        "  print(\"El año no es bisiesto \")"
      ],
      "metadata": {
        "colab": {
          "base_uri": "https://localhost:8080/"
        },
        "id": "6I3UGyIVwrGD",
        "outputId": "cd2c18ca-a55c-40ac-93ee-65e0077cf0ea"
      },
      "execution_count": 48,
      "outputs": [
        {
          "output_type": "stream",
          "name": "stdout",
          "text": [
            "Ingrese un año: 2025\n",
            "El año no es bisiesto \n"
          ]
        }
      ]
    },
    {
      "cell_type": "markdown",
      "source": [
        "8. Escribe un programa que reciba una contraseña e indique si cumple con las siguientes reglas: más\n",
        "de 8 caracteres, contiene al menos un número y una letra mayúscula."
      ],
      "metadata": {
        "id": "ToDpUzcLyAMK"
      }
    },
    {
      "cell_type": "code",
      "source": [],
      "metadata": {
        "id": "pQBPC6oZyDHq"
      },
      "execution_count": 55,
      "outputs": []
    },
    {
      "cell_type": "markdown",
      "source": [
        "9. Escribe un programa que lea un número e imprima “Fizz” si es divisible por 3, “Buzz” si es divisible\n",
        "por 5 y “FizzBuzz” si es divisible por ambos."
      ],
      "metadata": {
        "id": "4rBTS_140Top"
      }
    },
    {
      "cell_type": "code",
      "source": [
        "num = int(input(\"Ingrese un numero: \"))\n",
        "if num % 3 == 0:\n",
        " print(\"Fizz\")\n",
        "if num % 5 == 0:\n",
        " print(\"Buzz\")\n",
        "if num % 3 == 0 and num % 5 == 0:\n",
        "  print(\"FizzBuzz\")"
      ],
      "metadata": {
        "colab": {
          "base_uri": "https://localhost:8080/"
        },
        "id": "Icfhfgfx0Z34",
        "outputId": "ed85e91f-8147-49f4-c4ac-646fbf4b7818"
      },
      "execution_count": 60,
      "outputs": [
        {
          "output_type": "stream",
          "name": "stdout",
          "text": [
            "Ingrese un numero: 25\n",
            "Buzz\n"
          ]
        }
      ]
    },
    {
      "cell_type": "markdown",
      "source": [
        "10. Escribe un programa que simule un cajero automático: recibe el monto a retirar e imprime si la\n",
        "operación es posible en base al saldo disponible."
      ],
      "metadata": {
        "id": "Su-tUGtT1Lz3"
      }
    },
    {
      "cell_type": "code",
      "source": [
        "saldo = 1000\n",
        "monto = int(input(\"Monto a retirar: \"))\n",
        "if monto <= saldo and monto > 0:\n",
        "  saldo = saldo - monto\n",
        "  print(\"Retiro exitoso, Saldo restante;\", saldo)\n",
        "else:\n",
        "  print(\"Retiro denegado\")"
      ],
      "metadata": {
        "colab": {
          "base_uri": "https://localhost:8080/"
        },
        "id": "B40G-BDi1Tg3",
        "outputId": "b067ef70-afe3-423d-db10-33f1173dd4b3"
      },
      "execution_count": 63,
      "outputs": [
        {
          "output_type": "stream",
          "name": "stdout",
          "text": [
            "Monto a retirar: 500\n",
            "Retiro exitoso, Saldo restante; 500\n"
          ]
        }
      ]
    }
  ]
}